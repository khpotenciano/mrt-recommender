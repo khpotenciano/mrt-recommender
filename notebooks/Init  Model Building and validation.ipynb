{
 "cells": [
  {
   "cell_type": "code",
   "execution_count": 4,
   "metadata": {},
   "outputs": [],
   "source": [
    "import import_files as MrtRecommendationDependencies\n",
    "from datetime import datetime\n",
    "from fbprophet import Prophet\n",
    "import pandas as pd\n",
    "from ridership_model import RidershipModel\n",
    "from mrt_ridership_model import MrtRidershipModel\n",
    "import numpy as np\n",
    "from sklearn.model_selection import TimeSeriesSplit\n",
    "\n",
    "from sklearn.metrics import r2_score\n",
    "from sklearn.metrics import mean_squared_error\n",
    "from datetime import datetime, timedelta\n",
    "from util import Util"
   ]
  },
  {
   "cell_type": "code",
   "execution_count": 3,
   "metadata": {},
   "outputs": [],
   "source": [
    "df = pd.read_csv(MrtRecommendationDependencies.get_dataset_path(\"ayala_weather_transformed.csv\"), parse_dates=[\"datetime\"], index_col=\"datetime\")"
   ]
  },
  {
   "cell_type": "code",
   "execution_count": 4,
   "metadata": {},
   "outputs": [],
   "source": [
    "splitter = TimeSeriesSplit(n_splits=10)"
   ]
  },
  {
   "cell_type": "code",
   "execution_count": 5,
   "metadata": {},
   "outputs": [],
   "source": [
    "splits = splitter.split(df)"
   ]
  },
  {
   "cell_type": "code",
   "execution_count": 6,
   "metadata": {},
   "outputs": [],
   "source": [
    "dataset = []"
   ]
  },
  {
   "cell_type": "code",
   "execution_count": 7,
   "metadata": {},
   "outputs": [],
   "source": [
    "for train_index, test_index in splits:\n",
    "    dataset.append({'train': df.iloc[train_index], 'test': df.iloc[test_index]})"
   ]
  },
  {
   "cell_type": "code",
   "execution_count": 8,
   "metadata": {},
   "outputs": [],
   "source": [
    "train = dataset[0]['train']\n",
    "test = dataset[0]['test']"
   ]
  },
  {
   "cell_type": "code",
   "execution_count": 9,
   "metadata": {},
   "outputs": [],
   "source": [
    "entry_model = RidershipModel('entry')"
   ]
  },
  {
   "cell_type": "code",
   "execution_count": 10,
   "metadata": {},
   "outputs": [
    {
     "name": "stderr",
     "output_type": "stream",
     "text": [
      "INFO:numexpr.utils:NumExpr defaulting to 4 threads.\n",
      "INFO:fbprophet:Disabling yearly seasonality. Run prophet with yearly_seasonality=True to override this.\n"
     ]
    }
   ],
   "source": [
    "entry_model.fit(train)"
   ]
  },
  {
   "cell_type": "code",
   "execution_count": 11,
   "metadata": {},
   "outputs": [],
   "source": [
    "predict = entry_model.predict(test)"
   ]
  },
  {
   "cell_type": "code",
   "execution_count": 12,
   "metadata": {},
   "outputs": [
    {
     "data": {
      "text/html": [
       "<div>\n",
       "<style scoped>\n",
       "    .dataframe tbody tr th:only-of-type {\n",
       "        vertical-align: middle;\n",
       "    }\n",
       "\n",
       "    .dataframe tbody tr th {\n",
       "        vertical-align: top;\n",
       "    }\n",
       "\n",
       "    .dataframe thead th {\n",
       "        text-align: right;\n",
       "    }\n",
       "</style>\n",
       "<table border=\"1\" class=\"dataframe\">\n",
       "  <thead>\n",
       "    <tr style=\"text-align: right;\">\n",
       "      <th></th>\n",
       "      <th>entry</th>\n",
       "      <th>exit</th>\n",
       "      <th>temp</th>\n",
       "      <th>humidity</th>\n",
       "      <th>rain_1h</th>\n",
       "      <th>rain_3h</th>\n",
       "      <th>weather_main</th>\n",
       "    </tr>\n",
       "    <tr>\n",
       "      <th>datetime</th>\n",
       "      <th></th>\n",
       "      <th></th>\n",
       "      <th></th>\n",
       "      <th></th>\n",
       "      <th></th>\n",
       "      <th></th>\n",
       "      <th></th>\n",
       "    </tr>\n",
       "  </thead>\n",
       "  <tbody>\n",
       "    <tr>\n",
       "      <th>2018-08-03 09:00:00</th>\n",
       "      <td>603.0</td>\n",
       "      <td>1247.0</td>\n",
       "      <td>28.62</td>\n",
       "      <td>72</td>\n",
       "      <td>0.0</td>\n",
       "      <td>0.0</td>\n",
       "      <td>Haze</td>\n",
       "    </tr>\n",
       "    <tr>\n",
       "      <th>2018-08-03 10:00:00</th>\n",
       "      <td>679.0</td>\n",
       "      <td>1223.0</td>\n",
       "      <td>28.04</td>\n",
       "      <td>72</td>\n",
       "      <td>0.0</td>\n",
       "      <td>0.0</td>\n",
       "      <td>Haze</td>\n",
       "    </tr>\n",
       "    <tr>\n",
       "      <th>2018-08-03 11:00:00</th>\n",
       "      <td>727.0</td>\n",
       "      <td>1438.0</td>\n",
       "      <td>27.96</td>\n",
       "      <td>75</td>\n",
       "      <td>0.0</td>\n",
       "      <td>0.0</td>\n",
       "      <td>Haze</td>\n",
       "    </tr>\n",
       "    <tr>\n",
       "      <th>2018-08-03 12:00:00</th>\n",
       "      <td>932.0</td>\n",
       "      <td>1667.0</td>\n",
       "      <td>27.99</td>\n",
       "      <td>75</td>\n",
       "      <td>0.0</td>\n",
       "      <td>0.0</td>\n",
       "      <td>Haze</td>\n",
       "    </tr>\n",
       "    <tr>\n",
       "      <th>2018-08-03 13:00:00</th>\n",
       "      <td>1021.0</td>\n",
       "      <td>1193.0</td>\n",
       "      <td>27.65</td>\n",
       "      <td>75</td>\n",
       "      <td>0.0</td>\n",
       "      <td>0.0</td>\n",
       "      <td>Haze</td>\n",
       "    </tr>\n",
       "  </tbody>\n",
       "</table>\n",
       "</div>"
      ],
      "text/plain": [
       "                      entry    exit   temp  humidity  rain_1h  rain_3h  \\\n",
       "datetime                                                                 \n",
       "2018-08-03 09:00:00   603.0  1247.0  28.62        72      0.0      0.0   \n",
       "2018-08-03 10:00:00   679.0  1223.0  28.04        72      0.0      0.0   \n",
       "2018-08-03 11:00:00   727.0  1438.0  27.96        75      0.0      0.0   \n",
       "2018-08-03 12:00:00   932.0  1667.0  27.99        75      0.0      0.0   \n",
       "2018-08-03 13:00:00  1021.0  1193.0  27.65        75      0.0      0.0   \n",
       "\n",
       "                    weather_main  \n",
       "datetime                          \n",
       "2018-08-03 09:00:00         Haze  \n",
       "2018-08-03 10:00:00         Haze  \n",
       "2018-08-03 11:00:00         Haze  \n",
       "2018-08-03 12:00:00         Haze  \n",
       "2018-08-03 13:00:00         Haze  "
      ]
     },
     "execution_count": 12,
     "metadata": {},
     "output_type": "execute_result"
    }
   ],
   "source": [
    "test.head()"
   ]
  },
  {
   "cell_type": "code",
   "execution_count": 13,
   "metadata": {},
   "outputs": [
    {
     "data": {
      "text/html": [
       "<div>\n",
       "<style scoped>\n",
       "    .dataframe tbody tr th:only-of-type {\n",
       "        vertical-align: middle;\n",
       "    }\n",
       "\n",
       "    .dataframe tbody tr th {\n",
       "        vertical-align: top;\n",
       "    }\n",
       "\n",
       "    .dataframe thead th {\n",
       "        text-align: right;\n",
       "    }\n",
       "</style>\n",
       "<table border=\"1\" class=\"dataframe\">\n",
       "  <thead>\n",
       "    <tr style=\"text-align: right;\">\n",
       "      <th></th>\n",
       "      <th>ds</th>\n",
       "      <th>trend</th>\n",
       "      <th>yhat_lower</th>\n",
       "      <th>yhat_upper</th>\n",
       "      <th>trend_lower</th>\n",
       "      <th>trend_upper</th>\n",
       "      <th>Bonifacio Day</th>\n",
       "      <th>Bonifacio Day_lower</th>\n",
       "      <th>Bonifacio Day_upper</th>\n",
       "      <th>Christmas Day</th>\n",
       "      <th>...</th>\n",
       "      <th>weekly_lower</th>\n",
       "      <th>weekly_upper</th>\n",
       "      <th>multiplicative_terms</th>\n",
       "      <th>multiplicative_terms_lower</th>\n",
       "      <th>multiplicative_terms_upper</th>\n",
       "      <th>yhat</th>\n",
       "      <th>holiday</th>\n",
       "      <th>lower_window</th>\n",
       "      <th>upper_window</th>\n",
       "      <th>prediction</th>\n",
       "    </tr>\n",
       "  </thead>\n",
       "  <tbody>\n",
       "    <tr>\n",
       "      <th>0</th>\n",
       "      <td>2018-08-03 09:00:00</td>\n",
       "      <td>926.834647</td>\n",
       "      <td>340.863481</td>\n",
       "      <td>1236.263712</td>\n",
       "      <td>926.834647</td>\n",
       "      <td>926.834647</td>\n",
       "      <td>0.0</td>\n",
       "      <td>0.0</td>\n",
       "      <td>0.0</td>\n",
       "      <td>0.0</td>\n",
       "      <td>...</td>\n",
       "      <td>20.216585</td>\n",
       "      <td>20.216585</td>\n",
       "      <td>0.0</td>\n",
       "      <td>0.0</td>\n",
       "      <td>0.0</td>\n",
       "      <td>780.504042</td>\n",
       "      <td>0</td>\n",
       "      <td>0.0</td>\n",
       "      <td>0.0</td>\n",
       "      <td>780.504042</td>\n",
       "    </tr>\n",
       "    <tr>\n",
       "      <th>1</th>\n",
       "      <td>2018-08-03 10:00:00</td>\n",
       "      <td>926.821875</td>\n",
       "      <td>212.911899</td>\n",
       "      <td>1100.674417</td>\n",
       "      <td>926.821875</td>\n",
       "      <td>926.821875</td>\n",
       "      <td>0.0</td>\n",
       "      <td>0.0</td>\n",
       "      <td>0.0</td>\n",
       "      <td>0.0</td>\n",
       "      <td>...</td>\n",
       "      <td>-2.701033</td>\n",
       "      <td>-2.701033</td>\n",
       "      <td>0.0</td>\n",
       "      <td>0.0</td>\n",
       "      <td>0.0</td>\n",
       "      <td>628.183892</td>\n",
       "      <td>0</td>\n",
       "      <td>0.0</td>\n",
       "      <td>0.0</td>\n",
       "      <td>628.183892</td>\n",
       "    </tr>\n",
       "    <tr>\n",
       "      <th>2</th>\n",
       "      <td>2018-08-03 11:00:00</td>\n",
       "      <td>926.809103</td>\n",
       "      <td>147.581236</td>\n",
       "      <td>1018.066501</td>\n",
       "      <td>926.809103</td>\n",
       "      <td>926.809103</td>\n",
       "      <td>0.0</td>\n",
       "      <td>0.0</td>\n",
       "      <td>0.0</td>\n",
       "      <td>0.0</td>\n",
       "      <td>...</td>\n",
       "      <td>-26.731427</td>\n",
       "      <td>-26.731427</td>\n",
       "      <td>0.0</td>\n",
       "      <td>0.0</td>\n",
       "      <td>0.0</td>\n",
       "      <td>599.222483</td>\n",
       "      <td>0</td>\n",
       "      <td>0.0</td>\n",
       "      <td>0.0</td>\n",
       "      <td>599.222483</td>\n",
       "    </tr>\n",
       "    <tr>\n",
       "      <th>3</th>\n",
       "      <td>2018-08-03 12:00:00</td>\n",
       "      <td>926.796332</td>\n",
       "      <td>338.578145</td>\n",
       "      <td>1203.921724</td>\n",
       "      <td>926.796332</td>\n",
       "      <td>926.796332</td>\n",
       "      <td>0.0</td>\n",
       "      <td>0.0</td>\n",
       "      <td>0.0</td>\n",
       "      <td>0.0</td>\n",
       "      <td>...</td>\n",
       "      <td>-51.744630</td>\n",
       "      <td>-51.744630</td>\n",
       "      <td>0.0</td>\n",
       "      <td>0.0</td>\n",
       "      <td>0.0</td>\n",
       "      <td>767.913463</td>\n",
       "      <td>0</td>\n",
       "      <td>0.0</td>\n",
       "      <td>0.0</td>\n",
       "      <td>767.913463</td>\n",
       "    </tr>\n",
       "    <tr>\n",
       "      <th>4</th>\n",
       "      <td>2018-08-03 13:00:00</td>\n",
       "      <td>926.783560</td>\n",
       "      <td>597.972092</td>\n",
       "      <td>1453.457810</td>\n",
       "      <td>926.783560</td>\n",
       "      <td>926.783560</td>\n",
       "      <td>0.0</td>\n",
       "      <td>0.0</td>\n",
       "      <td>0.0</td>\n",
       "      <td>0.0</td>\n",
       "      <td>...</td>\n",
       "      <td>-77.597950</td>\n",
       "      <td>-77.597950</td>\n",
       "      <td>0.0</td>\n",
       "      <td>0.0</td>\n",
       "      <td>0.0</td>\n",
       "      <td>1054.348783</td>\n",
       "      <td>0</td>\n",
       "      <td>0.0</td>\n",
       "      <td>0.0</td>\n",
       "      <td>1054.348783</td>\n",
       "    </tr>\n",
       "  </tbody>\n",
       "</table>\n",
       "<p>5 rows × 65 columns</p>\n",
       "</div>"
      ],
      "text/plain": [
       "                   ds       trend  yhat_lower   yhat_upper  trend_lower  \\\n",
       "0 2018-08-03 09:00:00  926.834647  340.863481  1236.263712   926.834647   \n",
       "1 2018-08-03 10:00:00  926.821875  212.911899  1100.674417   926.821875   \n",
       "2 2018-08-03 11:00:00  926.809103  147.581236  1018.066501   926.809103   \n",
       "3 2018-08-03 12:00:00  926.796332  338.578145  1203.921724   926.796332   \n",
       "4 2018-08-03 13:00:00  926.783560  597.972092  1453.457810   926.783560   \n",
       "\n",
       "   trend_upper  Bonifacio Day  Bonifacio Day_lower  Bonifacio Day_upper  \\\n",
       "0   926.834647            0.0                  0.0                  0.0   \n",
       "1   926.821875            0.0                  0.0                  0.0   \n",
       "2   926.809103            0.0                  0.0                  0.0   \n",
       "3   926.796332            0.0                  0.0                  0.0   \n",
       "4   926.783560            0.0                  0.0                  0.0   \n",
       "\n",
       "   Christmas Day  ...  weekly_lower  weekly_upper  multiplicative_terms  \\\n",
       "0            0.0  ...     20.216585     20.216585                   0.0   \n",
       "1            0.0  ...     -2.701033     -2.701033                   0.0   \n",
       "2            0.0  ...    -26.731427    -26.731427                   0.0   \n",
       "3            0.0  ...    -51.744630    -51.744630                   0.0   \n",
       "4            0.0  ...    -77.597950    -77.597950                   0.0   \n",
       "\n",
       "   multiplicative_terms_lower  multiplicative_terms_upper         yhat  \\\n",
       "0                         0.0                         0.0   780.504042   \n",
       "1                         0.0                         0.0   628.183892   \n",
       "2                         0.0                         0.0   599.222483   \n",
       "3                         0.0                         0.0   767.913463   \n",
       "4                         0.0                         0.0  1054.348783   \n",
       "\n",
       "   holiday  lower_window  upper_window   prediction  \n",
       "0        0           0.0           0.0   780.504042  \n",
       "1        0           0.0           0.0   628.183892  \n",
       "2        0           0.0           0.0   599.222483  \n",
       "3        0           0.0           0.0   767.913463  \n",
       "4        0           0.0           0.0  1054.348783  \n",
       "\n",
       "[5 rows x 65 columns]"
      ]
     },
     "execution_count": 13,
     "metadata": {},
     "output_type": "execute_result"
    }
   ],
   "source": [
    "predict.head()"
   ]
  },
  {
   "cell_type": "code",
   "execution_count": 14,
   "metadata": {},
   "outputs": [
    {
     "name": "stdout",
     "output_type": "stream",
     "text": [
      "0.7581499356121717\n"
     ]
    }
   ],
   "source": [
    "print(r2_score(test['entry'], predict['yhat']))"
   ]
  },
  {
   "cell_type": "code",
   "execution_count": 15,
   "metadata": {},
   "outputs": [
    {
     "name": "stderr",
     "output_type": "stream",
     "text": [
      "INFO:fbprophet:Disabling yearly seasonality. Run prophet with yearly_seasonality=True to override this.\n",
      "INFO:fbprophet:Disabling yearly seasonality. Run prophet with yearly_seasonality=True to override this.\n",
      "INFO:fbprophet:Disabling yearly seasonality. Run prophet with yearly_seasonality=True to override this.\n"
     ]
    },
    {
     "name": "stdout",
     "output_type": "stream",
     "text": [
      "R2 score for Entry: 0.7581499356121717\n",
      "R2 score for Exit: 0.823823000702068\n"
     ]
    },
    {
     "name": "stderr",
     "output_type": "stream",
     "text": [
      "INFO:fbprophet:Disabling yearly seasonality. Run prophet with yearly_seasonality=True to override this.\n",
      "INFO:fbprophet:Disabling yearly seasonality. Run prophet with yearly_seasonality=True to override this.\n"
     ]
    },
    {
     "name": "stdout",
     "output_type": "stream",
     "text": [
      "R2 score for Entry: 0.8360394349230043\n",
      "R2 score for Exit: 0.8388211701206936\n"
     ]
    },
    {
     "name": "stderr",
     "output_type": "stream",
     "text": [
      "INFO:fbprophet:Disabling yearly seasonality. Run prophet with yearly_seasonality=True to override this.\n",
      "INFO:fbprophet:Disabling yearly seasonality. Run prophet with yearly_seasonality=True to override this.\n"
     ]
    },
    {
     "name": "stdout",
     "output_type": "stream",
     "text": [
      "R2 score for Entry: 0.7964190907954313\n",
      "R2 score for Exit: 0.8202470934509427\n"
     ]
    },
    {
     "name": "stderr",
     "output_type": "stream",
     "text": [
      "INFO:fbprophet:Disabling yearly seasonality. Run prophet with yearly_seasonality=True to override this.\n",
      "INFO:fbprophet:Disabling yearly seasonality. Run prophet with yearly_seasonality=True to override this.\n"
     ]
    },
    {
     "name": "stdout",
     "output_type": "stream",
     "text": [
      "R2 score for Entry: 0.8458107173571169\n",
      "R2 score for Exit: 0.838527245641971\n"
     ]
    },
    {
     "name": "stderr",
     "output_type": "stream",
     "text": [
      "INFO:fbprophet:Disabling yearly seasonality. Run prophet with yearly_seasonality=True to override this.\n",
      "INFO:fbprophet:Disabling yearly seasonality. Run prophet with yearly_seasonality=True to override this.\n"
     ]
    },
    {
     "name": "stdout",
     "output_type": "stream",
     "text": [
      "R2 score for Entry: 0.6405257931247494\n",
      "R2 score for Exit: 0.5775256332474132\n"
     ]
    },
    {
     "name": "stderr",
     "output_type": "stream",
     "text": [
      "INFO:fbprophet:Disabling yearly seasonality. Run prophet with yearly_seasonality=True to override this.\n",
      "INFO:fbprophet:Disabling yearly seasonality. Run prophet with yearly_seasonality=True to override this.\n"
     ]
    },
    {
     "name": "stdout",
     "output_type": "stream",
     "text": [
      "R2 score for Entry: 0.7647592329035822\n",
      "R2 score for Exit: 0.7646329329774059\n"
     ]
    },
    {
     "name": "stderr",
     "output_type": "stream",
     "text": [
      "INFO:fbprophet:Disabling yearly seasonality. Run prophet with yearly_seasonality=True to override this.\n",
      "INFO:fbprophet:Disabling yearly seasonality. Run prophet with yearly_seasonality=True to override this.\n"
     ]
    },
    {
     "name": "stdout",
     "output_type": "stream",
     "text": [
      "R2 score for Entry: 0.8035899731457101\n",
      "R2 score for Exit: 0.8135934618659598\n"
     ]
    },
    {
     "name": "stderr",
     "output_type": "stream",
     "text": [
      "INFO:fbprophet:Disabling yearly seasonality. Run prophet with yearly_seasonality=True to override this.\n",
      "INFO:fbprophet:Disabling yearly seasonality. Run prophet with yearly_seasonality=True to override this.\n"
     ]
    },
    {
     "name": "stdout",
     "output_type": "stream",
     "text": [
      "R2 score for Entry: 0.802873146707711\n",
      "R2 score for Exit: 0.8471000490854046\n"
     ]
    },
    {
     "name": "stderr",
     "output_type": "stream",
     "text": [
      "INFO:fbprophet:Disabling yearly seasonality. Run prophet with yearly_seasonality=True to override this.\n",
      "INFO:fbprophet:Disabling yearly seasonality. Run prophet with yearly_seasonality=True to override this.\n"
     ]
    },
    {
     "name": "stdout",
     "output_type": "stream",
     "text": [
      "R2 score for Entry: 0.7853319007812596\n",
      "R2 score for Exit: 0.796684599427945\n"
     ]
    },
    {
     "name": "stderr",
     "output_type": "stream",
     "text": [
      "INFO:fbprophet:Disabling yearly seasonality. Run prophet with yearly_seasonality=True to override this.\n"
     ]
    },
    {
     "name": "stdout",
     "output_type": "stream",
     "text": [
      "R2 score for Entry: 0.7790069009629359\n",
      "R2 score for Exit: 0.791890172315921\n"
     ]
    }
   ],
   "source": [
    "entry_r2s = []\n",
    "exit_r2s = []\n",
    "for row in dataset:\n",
    "    train = row['train']\n",
    "    test = row['test']\n",
    "    entry_model = RidershipModel('entry')\n",
    "    exit_model = RidershipModel('exit')\n",
    "    entry_model.fit(train)\n",
    "    exit_model.fit(train)\n",
    "    entry_pred = entry_model.predict(test)\n",
    "    exit_pred = exit_model.predict(test)\n",
    "    entry_r2 = r2_score(test['entry'], entry_pred['prediction'])\n",
    "    exit_r2 = r2_score(test['exit'], exit_pred['prediction'])\n",
    "    entry_r2s.append(entry_r2)\n",
    "    exit_r2s.append(exit_r2)\n",
    "    print(f\"R2 score for Entry: {entry_r2}\")\n",
    "    print(f\"R2 score for Exit: {exit_r2}\")\n",
    "    \n",
    "    "
   ]
  },
  {
   "cell_type": "code",
   "execution_count": 16,
   "metadata": {},
   "outputs": [
    {
     "data": {
      "text/plain": [
       "0.7812506126313672"
      ]
     },
     "execution_count": 16,
     "metadata": {},
     "output_type": "execute_result"
    }
   ],
   "source": [
    "np.mean(entry_r2s)"
   ]
  },
  {
   "cell_type": "code",
   "execution_count": 17,
   "metadata": {},
   "outputs": [
    {
     "data": {
      "text/plain": [
       "0.7912845358835725"
      ]
     },
     "execution_count": 17,
     "metadata": {},
     "output_type": "execute_result"
    }
   ],
   "source": [
    "np.mean(exit_r2s)"
   ]
  },
  {
   "cell_type": "code",
   "execution_count": 18,
   "metadata": {},
   "outputs": [],
   "source": [
    "test = dataset[4]['test']"
   ]
  },
  {
   "cell_type": "code",
   "execution_count": 19,
   "metadata": {},
   "outputs": [
    {
     "data": {
      "text/html": [
       "<div>\n",
       "<style scoped>\n",
       "    .dataframe tbody tr th:only-of-type {\n",
       "        vertical-align: middle;\n",
       "    }\n",
       "\n",
       "    .dataframe tbody tr th {\n",
       "        vertical-align: top;\n",
       "    }\n",
       "\n",
       "    .dataframe thead th {\n",
       "        text-align: right;\n",
       "    }\n",
       "</style>\n",
       "<table border=\"1\" class=\"dataframe\">\n",
       "  <thead>\n",
       "    <tr style=\"text-align: right;\">\n",
       "      <th></th>\n",
       "      <th>entry</th>\n",
       "      <th>exit</th>\n",
       "      <th>temp</th>\n",
       "      <th>humidity</th>\n",
       "      <th>rain_1h</th>\n",
       "      <th>rain_3h</th>\n",
       "      <th>weather_main</th>\n",
       "    </tr>\n",
       "    <tr>\n",
       "      <th>datetime</th>\n",
       "      <th></th>\n",
       "      <th></th>\n",
       "      <th></th>\n",
       "      <th></th>\n",
       "      <th></th>\n",
       "      <th></th>\n",
       "      <th></th>\n",
       "    </tr>\n",
       "  </thead>\n",
       "  <tbody>\n",
       "    <tr>\n",
       "      <th>2018-12-14 01:00:00</th>\n",
       "      <td>0.0</td>\n",
       "      <td>0.0</td>\n",
       "      <td>24.95</td>\n",
       "      <td>90</td>\n",
       "      <td>0.13</td>\n",
       "      <td>0.0</td>\n",
       "      <td>Rain</td>\n",
       "    </tr>\n",
       "    <tr>\n",
       "      <th>2018-12-14 02:00:00</th>\n",
       "      <td>0.0</td>\n",
       "      <td>0.0</td>\n",
       "      <td>27.56</td>\n",
       "      <td>78</td>\n",
       "      <td>0.00</td>\n",
       "      <td>2.5</td>\n",
       "      <td>Rain</td>\n",
       "    </tr>\n",
       "    <tr>\n",
       "      <th>2018-12-14 03:00:00</th>\n",
       "      <td>0.0</td>\n",
       "      <td>0.0</td>\n",
       "      <td>27.88</td>\n",
       "      <td>78</td>\n",
       "      <td>0.00</td>\n",
       "      <td>2.5</td>\n",
       "      <td>Rain</td>\n",
       "    </tr>\n",
       "    <tr>\n",
       "      <th>2018-12-14 04:00:00</th>\n",
       "      <td>0.0</td>\n",
       "      <td>0.0</td>\n",
       "      <td>27.60</td>\n",
       "      <td>78</td>\n",
       "      <td>0.00</td>\n",
       "      <td>2.5</td>\n",
       "      <td>Rain</td>\n",
       "    </tr>\n",
       "    <tr>\n",
       "      <th>2018-12-14 05:00:00</th>\n",
       "      <td>133.0</td>\n",
       "      <td>172.0</td>\n",
       "      <td>27.62</td>\n",
       "      <td>77</td>\n",
       "      <td>0.00</td>\n",
       "      <td>0.0</td>\n",
       "      <td>Clouds</td>\n",
       "    </tr>\n",
       "  </tbody>\n",
       "</table>\n",
       "</div>"
      ],
      "text/plain": [
       "                     entry   exit   temp  humidity  rain_1h  rain_3h  \\\n",
       "datetime                                                               \n",
       "2018-12-14 01:00:00    0.0    0.0  24.95        90     0.13      0.0   \n",
       "2018-12-14 02:00:00    0.0    0.0  27.56        78     0.00      2.5   \n",
       "2018-12-14 03:00:00    0.0    0.0  27.88        78     0.00      2.5   \n",
       "2018-12-14 04:00:00    0.0    0.0  27.60        78     0.00      2.5   \n",
       "2018-12-14 05:00:00  133.0  172.0  27.62        77     0.00      0.0   \n",
       "\n",
       "                    weather_main  \n",
       "datetime                          \n",
       "2018-12-14 01:00:00         Rain  \n",
       "2018-12-14 02:00:00         Rain  \n",
       "2018-12-14 03:00:00         Rain  \n",
       "2018-12-14 04:00:00         Rain  \n",
       "2018-12-14 05:00:00       Clouds  "
      ]
     },
     "execution_count": 19,
     "metadata": {},
     "output_type": "execute_result"
    }
   ],
   "source": [
    "test.head()"
   ]
  },
  {
   "cell_type": "code",
   "execution_count": 24,
   "metadata": {},
   "outputs": [
    {
     "data": {
      "text/html": [
       "<div>\n",
       "<style scoped>\n",
       "    .dataframe tbody tr th:only-of-type {\n",
       "        vertical-align: middle;\n",
       "    }\n",
       "\n",
       "    .dataframe tbody tr th {\n",
       "        vertical-align: top;\n",
       "    }\n",
       "\n",
       "    .dataframe thead th {\n",
       "        text-align: right;\n",
       "    }\n",
       "</style>\n",
       "<table border=\"1\" class=\"dataframe\">\n",
       "  <thead>\n",
       "    <tr style=\"text-align: right;\">\n",
       "      <th></th>\n",
       "      <th>entry</th>\n",
       "      <th>exit</th>\n",
       "      <th>temp</th>\n",
       "      <th>humidity</th>\n",
       "      <th>rain_1h</th>\n",
       "      <th>rain_3h</th>\n",
       "      <th>weather_main</th>\n",
       "    </tr>\n",
       "    <tr>\n",
       "      <th>datetime</th>\n",
       "      <th></th>\n",
       "      <th></th>\n",
       "      <th></th>\n",
       "      <th></th>\n",
       "      <th></th>\n",
       "      <th></th>\n",
       "      <th></th>\n",
       "    </tr>\n",
       "  </thead>\n",
       "  <tbody>\n",
       "    <tr>\n",
       "      <th>2019-01-01 01:00:00</th>\n",
       "      <td>0.0</td>\n",
       "      <td>0.0</td>\n",
       "      <td>25.59</td>\n",
       "      <td>90</td>\n",
       "      <td>0.00</td>\n",
       "      <td>0.00</td>\n",
       "      <td>Clouds</td>\n",
       "    </tr>\n",
       "    <tr>\n",
       "      <th>2019-01-01 02:00:00</th>\n",
       "      <td>0.0</td>\n",
       "      <td>0.0</td>\n",
       "      <td>27.32</td>\n",
       "      <td>85</td>\n",
       "      <td>0.00</td>\n",
       "      <td>3.00</td>\n",
       "      <td>Rain</td>\n",
       "    </tr>\n",
       "    <tr>\n",
       "      <th>2019-01-01 03:00:00</th>\n",
       "      <td>0.0</td>\n",
       "      <td>0.0</td>\n",
       "      <td>27.87</td>\n",
       "      <td>85</td>\n",
       "      <td>0.00</td>\n",
       "      <td>3.00</td>\n",
       "      <td>Rain</td>\n",
       "    </tr>\n",
       "    <tr>\n",
       "      <th>2019-01-01 04:00:00</th>\n",
       "      <td>0.0</td>\n",
       "      <td>0.0</td>\n",
       "      <td>28.26</td>\n",
       "      <td>85</td>\n",
       "      <td>0.00</td>\n",
       "      <td>3.00</td>\n",
       "      <td>Rain</td>\n",
       "    </tr>\n",
       "    <tr>\n",
       "      <th>2019-01-01 05:00:00</th>\n",
       "      <td>0.0</td>\n",
       "      <td>0.0</td>\n",
       "      <td>29.27</td>\n",
       "      <td>61</td>\n",
       "      <td>0.00</td>\n",
       "      <td>0.00</td>\n",
       "      <td>Haze</td>\n",
       "    </tr>\n",
       "    <tr>\n",
       "      <th>2019-01-01 06:00:00</th>\n",
       "      <td>181.0</td>\n",
       "      <td>29.0</td>\n",
       "      <td>28.52</td>\n",
       "      <td>61</td>\n",
       "      <td>0.00</td>\n",
       "      <td>0.00</td>\n",
       "      <td>Haze</td>\n",
       "    </tr>\n",
       "    <tr>\n",
       "      <th>2019-01-01 07:00:00</th>\n",
       "      <td>333.0</td>\n",
       "      <td>266.0</td>\n",
       "      <td>28.45</td>\n",
       "      <td>61</td>\n",
       "      <td>0.00</td>\n",
       "      <td>0.00</td>\n",
       "      <td>Haze</td>\n",
       "    </tr>\n",
       "    <tr>\n",
       "      <th>2019-01-01 08:00:00</th>\n",
       "      <td>237.0</td>\n",
       "      <td>226.0</td>\n",
       "      <td>27.94</td>\n",
       "      <td>67</td>\n",
       "      <td>0.00</td>\n",
       "      <td>0.00</td>\n",
       "      <td>Haze</td>\n",
       "    </tr>\n",
       "    <tr>\n",
       "      <th>2019-01-01 09:00:00</th>\n",
       "      <td>243.0</td>\n",
       "      <td>417.0</td>\n",
       "      <td>27.58</td>\n",
       "      <td>67</td>\n",
       "      <td>0.00</td>\n",
       "      <td>0.00</td>\n",
       "      <td>Haze</td>\n",
       "    </tr>\n",
       "    <tr>\n",
       "      <th>2019-01-01 10:00:00</th>\n",
       "      <td>188.0</td>\n",
       "      <td>594.0</td>\n",
       "      <td>25.58</td>\n",
       "      <td>67</td>\n",
       "      <td>1.27</td>\n",
       "      <td>0.00</td>\n",
       "      <td>Haze</td>\n",
       "    </tr>\n",
       "    <tr>\n",
       "      <th>2019-01-01 11:00:00</th>\n",
       "      <td>233.0</td>\n",
       "      <td>868.0</td>\n",
       "      <td>24.79</td>\n",
       "      <td>85</td>\n",
       "      <td>1.27</td>\n",
       "      <td>0.00</td>\n",
       "      <td>Rain</td>\n",
       "    </tr>\n",
       "    <tr>\n",
       "      <th>2019-01-01 12:00:00</th>\n",
       "      <td>221.0</td>\n",
       "      <td>783.0</td>\n",
       "      <td>24.82</td>\n",
       "      <td>85</td>\n",
       "      <td>1.27</td>\n",
       "      <td>0.00</td>\n",
       "      <td>Rain</td>\n",
       "    </tr>\n",
       "    <tr>\n",
       "      <th>2019-01-01 13:00:00</th>\n",
       "      <td>317.0</td>\n",
       "      <td>721.0</td>\n",
       "      <td>25.01</td>\n",
       "      <td>85</td>\n",
       "      <td>1.27</td>\n",
       "      <td>0.00</td>\n",
       "      <td>Rain</td>\n",
       "    </tr>\n",
       "    <tr>\n",
       "      <th>2019-01-01 14:00:00</th>\n",
       "      <td>417.0</td>\n",
       "      <td>766.0</td>\n",
       "      <td>24.68</td>\n",
       "      <td>93</td>\n",
       "      <td>1.27</td>\n",
       "      <td>0.75</td>\n",
       "      <td>Rain</td>\n",
       "    </tr>\n",
       "    <tr>\n",
       "      <th>2019-01-01 15:00:00</th>\n",
       "      <td>442.0</td>\n",
       "      <td>687.0</td>\n",
       "      <td>24.63</td>\n",
       "      <td>93</td>\n",
       "      <td>1.27</td>\n",
       "      <td>0.75</td>\n",
       "      <td>Rain</td>\n",
       "    </tr>\n",
       "    <tr>\n",
       "      <th>2019-01-01 16:00:00</th>\n",
       "      <td>469.0</td>\n",
       "      <td>682.0</td>\n",
       "      <td>24.38</td>\n",
       "      <td>93</td>\n",
       "      <td>1.27</td>\n",
       "      <td>0.75</td>\n",
       "      <td>Rain</td>\n",
       "    </tr>\n",
       "    <tr>\n",
       "      <th>2019-01-01 17:00:00</th>\n",
       "      <td>448.0</td>\n",
       "      <td>921.0</td>\n",
       "      <td>24.19</td>\n",
       "      <td>91</td>\n",
       "      <td>1.27</td>\n",
       "      <td>0.00</td>\n",
       "      <td>Haze</td>\n",
       "    </tr>\n",
       "    <tr>\n",
       "      <th>2019-01-01 18:00:00</th>\n",
       "      <td>566.0</td>\n",
       "      <td>772.0</td>\n",
       "      <td>24.14</td>\n",
       "      <td>91</td>\n",
       "      <td>1.27</td>\n",
       "      <td>0.00</td>\n",
       "      <td>Haze</td>\n",
       "    </tr>\n",
       "    <tr>\n",
       "      <th>2019-01-01 19:00:00</th>\n",
       "      <td>534.0</td>\n",
       "      <td>644.0</td>\n",
       "      <td>24.26</td>\n",
       "      <td>91</td>\n",
       "      <td>0.00</td>\n",
       "      <td>0.00</td>\n",
       "      <td>Haze</td>\n",
       "    </tr>\n",
       "    <tr>\n",
       "      <th>2019-01-01 20:00:00</th>\n",
       "      <td>615.0</td>\n",
       "      <td>586.0</td>\n",
       "      <td>24.41</td>\n",
       "      <td>90</td>\n",
       "      <td>0.00</td>\n",
       "      <td>0.00</td>\n",
       "      <td>Haze</td>\n",
       "    </tr>\n",
       "  </tbody>\n",
       "</table>\n",
       "</div>"
      ],
      "text/plain": [
       "                     entry   exit   temp  humidity  rain_1h  rain_3h  \\\n",
       "datetime                                                               \n",
       "2019-01-01 01:00:00    0.0    0.0  25.59        90     0.00     0.00   \n",
       "2019-01-01 02:00:00    0.0    0.0  27.32        85     0.00     3.00   \n",
       "2019-01-01 03:00:00    0.0    0.0  27.87        85     0.00     3.00   \n",
       "2019-01-01 04:00:00    0.0    0.0  28.26        85     0.00     3.00   \n",
       "2019-01-01 05:00:00    0.0    0.0  29.27        61     0.00     0.00   \n",
       "2019-01-01 06:00:00  181.0   29.0  28.52        61     0.00     0.00   \n",
       "2019-01-01 07:00:00  333.0  266.0  28.45        61     0.00     0.00   \n",
       "2019-01-01 08:00:00  237.0  226.0  27.94        67     0.00     0.00   \n",
       "2019-01-01 09:00:00  243.0  417.0  27.58        67     0.00     0.00   \n",
       "2019-01-01 10:00:00  188.0  594.0  25.58        67     1.27     0.00   \n",
       "2019-01-01 11:00:00  233.0  868.0  24.79        85     1.27     0.00   \n",
       "2019-01-01 12:00:00  221.0  783.0  24.82        85     1.27     0.00   \n",
       "2019-01-01 13:00:00  317.0  721.0  25.01        85     1.27     0.00   \n",
       "2019-01-01 14:00:00  417.0  766.0  24.68        93     1.27     0.75   \n",
       "2019-01-01 15:00:00  442.0  687.0  24.63        93     1.27     0.75   \n",
       "2019-01-01 16:00:00  469.0  682.0  24.38        93     1.27     0.75   \n",
       "2019-01-01 17:00:00  448.0  921.0  24.19        91     1.27     0.00   \n",
       "2019-01-01 18:00:00  566.0  772.0  24.14        91     1.27     0.00   \n",
       "2019-01-01 19:00:00  534.0  644.0  24.26        91     0.00     0.00   \n",
       "2019-01-01 20:00:00  615.0  586.0  24.41        90     0.00     0.00   \n",
       "\n",
       "                    weather_main  \n",
       "datetime                          \n",
       "2019-01-01 01:00:00       Clouds  \n",
       "2019-01-01 02:00:00         Rain  \n",
       "2019-01-01 03:00:00         Rain  \n",
       "2019-01-01 04:00:00         Rain  \n",
       "2019-01-01 05:00:00         Haze  \n",
       "2019-01-01 06:00:00         Haze  \n",
       "2019-01-01 07:00:00         Haze  \n",
       "2019-01-01 08:00:00         Haze  \n",
       "2019-01-01 09:00:00         Haze  \n",
       "2019-01-01 10:00:00         Haze  \n",
       "2019-01-01 11:00:00         Rain  \n",
       "2019-01-01 12:00:00         Rain  \n",
       "2019-01-01 13:00:00         Rain  \n",
       "2019-01-01 14:00:00         Rain  \n",
       "2019-01-01 15:00:00         Rain  \n",
       "2019-01-01 16:00:00         Rain  \n",
       "2019-01-01 17:00:00         Haze  \n",
       "2019-01-01 18:00:00         Haze  \n",
       "2019-01-01 19:00:00         Haze  \n",
       "2019-01-01 20:00:00         Haze  "
      ]
     },
     "execution_count": 24,
     "metadata": {},
     "output_type": "execute_result"
    }
   ],
   "source": [
    "test[test.index > datetime(2019,1,1)].head(20)"
   ]
  },
  {
   "cell_type": "code",
   "execution_count": 5,
   "metadata": {},
   "outputs": [
    {
     "ename": "NameError",
     "evalue": "name 'init_models' is not defined",
     "output_type": "error",
     "traceback": [
      "\u001b[0;31m---------------------------------------------------------------------------\u001b[0m",
      "\u001b[0;31mNameError\u001b[0m                                 Traceback (most recent call last)",
      "\u001b[0;32m<ipython-input-5-e214936af1b1>\u001b[0m in \u001b[0;36m<module>\u001b[0;34m\u001b[0m\n\u001b[0;32m----> 1\u001b[0;31m \u001b[0mmodel\u001b[0m \u001b[0;34m=\u001b[0m \u001b[0mMrtRidershipModel\u001b[0m\u001b[0;34m(\u001b[0m\u001b[0;34m)\u001b[0m\u001b[0;34m\u001b[0m\u001b[0;34m\u001b[0m\u001b[0m\n\u001b[0m",
      "\u001b[0;32m~/Sites/mrt-recommender/ml_model/mrt_ridership_model.py\u001b[0m in \u001b[0;36m__init__\u001b[0;34m(self)\u001b[0m\n\u001b[1;32m      8\u001b[0m     \u001b[0;32mdef\u001b[0m \u001b[0m__init__\u001b[0m\u001b[0;34m(\u001b[0m\u001b[0mself\u001b[0m\u001b[0;34m)\u001b[0m\u001b[0;34m:\u001b[0m\u001b[0;34m\u001b[0m\u001b[0;34m\u001b[0m\u001b[0m\n\u001b[1;32m      9\u001b[0m         \u001b[0mself\u001b[0m\u001b[0;34m.\u001b[0m\u001b[0m_stations\u001b[0m \u001b[0;34m=\u001b[0m \u001b[0;34m[\u001b[0m\u001b[0;34m'north'\u001b[0m\u001b[0;34m,\u001b[0m\u001b[0;34m'qave'\u001b[0m\u001b[0;34m]\u001b[0m\u001b[0;31m#,'kamuning','cubao','santolan','ortigas','shaw','boni','guada','buendia','ayala','magallanes','taft']\u001b[0m\u001b[0;34m\u001b[0m\u001b[0;34m\u001b[0m\u001b[0m\n\u001b[0;32m---> 10\u001b[0;31m         \u001b[0mself\u001b[0m\u001b[0;34m.\u001b[0m\u001b[0minit_models\u001b[0m\u001b[0;34m(\u001b[0m\u001b[0;34m)\u001b[0m\u001b[0;34m\u001b[0m\u001b[0;34m\u001b[0m\u001b[0m\n\u001b[0m\u001b[1;32m     11\u001b[0m         \u001b[0mself\u001b[0m\u001b[0;34m.\u001b[0m\u001b[0mtrain_models\u001b[0m\u001b[0;34m(\u001b[0m\u001b[0;34m)\u001b[0m\u001b[0;34m\u001b[0m\u001b[0;34m\u001b[0m\u001b[0m\n\u001b[1;32m     12\u001b[0m \u001b[0;34m\u001b[0m\u001b[0m\n",
      "\u001b[0;31mNameError\u001b[0m: name 'init_models' is not defined"
     ]
    }
   ],
   "source": [
    "model = MrtRidershipModel()"
   ]
  },
  {
   "cell_type": "code",
   "execution_count": null,
   "metadata": {},
   "outputs": [],
   "source": []
  }
 ],
 "metadata": {
  "kernelspec": {
   "display_name": "Python 3",
   "language": "python",
   "name": "python3"
  },
  "language_info": {
   "codemirror_mode": {
    "name": "ipython",
    "version": 3
   },
   "file_extension": ".py",
   "mimetype": "text/x-python",
   "name": "python",
   "nbconvert_exporter": "python",
   "pygments_lexer": "ipython3",
   "version": "3.8.3"
  }
 },
 "nbformat": 4,
 "nbformat_minor": 4
}
