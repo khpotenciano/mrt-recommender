{
 "cells": [
  {
   "cell_type": "code",
   "execution_count": 2,
   "metadata": {},
   "outputs": [],
   "source": [
    "import import_files as MrtRecommendationDependencies\n",
    "from ridership_transformer import RidershipTransformer\n",
    "from ridership_cleaner import RidershipCleaner\n",
    "from database import TrainUpdate\n",
    "import pandas as pd"
   ]
  },
  {
   "cell_type": "code",
   "execution_count": 18,
   "metadata": {},
   "outputs": [],
   "source": [
    "months = [\"january\", \"february\", \"march\", \"april\", \"may\", \"june\", \"july\", \"august\", \"september\", \"october\", \"november\", \"december\"]\n",
    "\n",
    "stations = ['north','qave','kamuning','cubao','santolan','ortigas','shaw','boni','guada','buendia','ayala','magallanes','taft']"
   ]
  },
  {
   "cell_type": "code",
   "execution_count": 10,
   "metadata": {},
   "outputs": [
    {
     "name": "stderr",
     "output_type": "stream",
     "text": [
      "/Users/karl-potenciano/opt/anaconda3/lib/python3.8/site-packages/pandas/core/frame.py:4147: SettingWithCopyWarning: \n",
      "A value is trying to be set on a copy of a slice from a DataFrame\n",
      "\n",
      "See the caveats in the documentation: https://pandas.pydata.org/pandas-docs/stable/user_guide/indexing.html#returning-a-view-versus-a-copy\n",
      "  return super().fillna(\n"
     ]
    },
    {
     "name": "stdout",
     "output_type": "stream",
     "text": [
      "Dataframe saved to /Users/karl-potenciano/Sites/mrt-recommender/data/datasets/north.csv\n",
      "Dataframe saved to /Users/karl-potenciano/Sites/mrt-recommender/data/datasets/north_transformed.csv\n",
      "Dataframe saved to /Users/karl-potenciano/Sites/mrt-recommender/data/datasets/qave.csv\n",
      "Dataframe saved to /Users/karl-potenciano/Sites/mrt-recommender/data/datasets/qave_transformed.csv\n",
      "Dataframe saved to /Users/karl-potenciano/Sites/mrt-recommender/data/datasets/kamuning.csv\n",
      "Dataframe saved to /Users/karl-potenciano/Sites/mrt-recommender/data/datasets/kamuning_transformed.csv\n",
      "Dataframe saved to /Users/karl-potenciano/Sites/mrt-recommender/data/datasets/cubao.csv\n",
      "Dataframe saved to /Users/karl-potenciano/Sites/mrt-recommender/data/datasets/cubao_transformed.csv\n",
      "Dataframe saved to /Users/karl-potenciano/Sites/mrt-recommender/data/datasets/santolan.csv\n",
      "Dataframe saved to /Users/karl-potenciano/Sites/mrt-recommender/data/datasets/santolan_transformed.csv\n",
      "Dataframe saved to /Users/karl-potenciano/Sites/mrt-recommender/data/datasets/ortigas.csv\n",
      "Dataframe saved to /Users/karl-potenciano/Sites/mrt-recommender/data/datasets/ortigas_transformed.csv\n",
      "Dataframe saved to /Users/karl-potenciano/Sites/mrt-recommender/data/datasets/shaw.csv\n",
      "Dataframe saved to /Users/karl-potenciano/Sites/mrt-recommender/data/datasets/shaw_transformed.csv\n",
      "Dataframe saved to /Users/karl-potenciano/Sites/mrt-recommender/data/datasets/boni.csv\n",
      "Dataframe saved to /Users/karl-potenciano/Sites/mrt-recommender/data/datasets/boni_transformed.csv\n",
      "Dataframe saved to /Users/karl-potenciano/Sites/mrt-recommender/data/datasets/guada.csv\n",
      "Dataframe saved to /Users/karl-potenciano/Sites/mrt-recommender/data/datasets/guada_transformed.csv\n",
      "Dataframe saved to /Users/karl-potenciano/Sites/mrt-recommender/data/datasets/buendia.csv\n",
      "Dataframe saved to /Users/karl-potenciano/Sites/mrt-recommender/data/datasets/buendia_transformed.csv\n",
      "Dataframe saved to /Users/karl-potenciano/Sites/mrt-recommender/data/datasets/ayala.csv\n",
      "Dataframe saved to /Users/karl-potenciano/Sites/mrt-recommender/data/datasets/ayala_transformed.csv\n",
      "Dataframe saved to /Users/karl-potenciano/Sites/mrt-recommender/data/datasets/magallanes.csv\n",
      "Dataframe saved to /Users/karl-potenciano/Sites/mrt-recommender/data/datasets/magallanes_transformed.csv\n",
      "Dataframe saved to /Users/karl-potenciano/Sites/mrt-recommender/data/datasets/taft.csv\n",
      "Dataframe saved to /Users/karl-potenciano/Sites/mrt-recommender/data/datasets/taft_transformed.csv\n"
     ]
    }
   ],
   "source": [
    "cleaner = RidershipCleaner(\"~/Downloads/test.xlsx\")\n",
    "for station in stations:\n",
    "    cleaned_df = cleaner.clean_months(station,months,save_csv=True)\n",
    "    transformer = RidershipTransformer(cleaned_df)\n",
    "    transformed_df = transformer.transform()\n",
    "    transformer.save_csv(f\"{station}_transformed.csv\")"
   ]
  },
  {
   "cell_type": "code",
   "execution_count": 3,
   "metadata": {},
   "outputs": [],
   "source": [
    "query = TrainUpdate.filter(TrainUpdate.datetime != None)\n",
    "train_updates = pd.read_sql(query.statement, query.session.bind)"
   ]
  },
  {
   "cell_type": "code",
   "execution_count": 17,
   "metadata": {},
   "outputs": [],
   "source": [
    "train_updates.fillna(0,inplace=True)"
   ]
  },
  {
   "cell_type": "code",
   "execution_count": 18,
   "metadata": {},
   "outputs": [],
   "source": [
    "train_updates.drop('tweet_id', axis=1, inplace=True)"
   ]
  },
  {
   "cell_type": "code",
   "execution_count": 19,
   "metadata": {},
   "outputs": [
    {
     "data": {
      "text/html": [
       "<div>\n",
       "<style scoped>\n",
       "    .dataframe tbody tr th:only-of-type {\n",
       "        vertical-align: middle;\n",
       "    }\n",
       "\n",
       "    .dataframe tbody tr th {\n",
       "        vertical-align: top;\n",
       "    }\n",
       "\n",
       "    .dataframe thead th {\n",
       "        text-align: right;\n",
       "    }\n",
       "</style>\n",
       "<table border=\"1\" class=\"dataframe\">\n",
       "  <thead>\n",
       "    <tr style=\"text-align: right;\">\n",
       "      <th></th>\n",
       "      <th>datetime</th>\n",
       "      <th>num_train_running</th>\n",
       "      <th>num_train_operational</th>\n",
       "      <th>num_dalian_train_running</th>\n",
       "      <th>num_dalian_train_operational</th>\n",
       "      <th>headway</th>\n",
       "    </tr>\n",
       "  </thead>\n",
       "  <tbody>\n",
       "    <tr>\n",
       "      <th>0</th>\n",
       "      <td>2018-07-01 19:00:00</td>\n",
       "      <td>12</td>\n",
       "      <td>13.0</td>\n",
       "      <td>0.0</td>\n",
       "      <td>0</td>\n",
       "      <td>8.5</td>\n",
       "    </tr>\n",
       "    <tr>\n",
       "      <th>1</th>\n",
       "      <td>2018-07-02 05:00:00</td>\n",
       "      <td>8</td>\n",
       "      <td>8.0</td>\n",
       "      <td>0.0</td>\n",
       "      <td>0</td>\n",
       "      <td>8.0</td>\n",
       "    </tr>\n",
       "    <tr>\n",
       "      <th>2</th>\n",
       "      <td>2018-07-03 05:00:00</td>\n",
       "      <td>7</td>\n",
       "      <td>7.0</td>\n",
       "      <td>0.0</td>\n",
       "      <td>0</td>\n",
       "      <td>8.0</td>\n",
       "    </tr>\n",
       "    <tr>\n",
       "      <th>3</th>\n",
       "      <td>2018-07-02 18:00:00</td>\n",
       "      <td>15</td>\n",
       "      <td>15.0</td>\n",
       "      <td>0.0</td>\n",
       "      <td>0</td>\n",
       "      <td>7.0</td>\n",
       "    </tr>\n",
       "    <tr>\n",
       "      <th>4</th>\n",
       "      <td>2018-07-04 05:00:00</td>\n",
       "      <td>9</td>\n",
       "      <td>9.0</td>\n",
       "      <td>0.0</td>\n",
       "      <td>0</td>\n",
       "      <td>8.0</td>\n",
       "    </tr>\n",
       "  </tbody>\n",
       "</table>\n",
       "</div>"
      ],
      "text/plain": [
       "             datetime  num_train_running  num_train_operational  \\\n",
       "0 2018-07-01 19:00:00                 12                   13.0   \n",
       "1 2018-07-02 05:00:00                  8                    8.0   \n",
       "2 2018-07-03 05:00:00                  7                    7.0   \n",
       "3 2018-07-02 18:00:00                 15                   15.0   \n",
       "4 2018-07-04 05:00:00                  9                    9.0   \n",
       "\n",
       "   num_dalian_train_running  num_dalian_train_operational  headway  \n",
       "0                       0.0                             0      8.5  \n",
       "1                       0.0                             0      8.0  \n",
       "2                       0.0                             0      8.0  \n",
       "3                       0.0                             0      7.0  \n",
       "4                       0.0                             0      8.0  "
      ]
     },
     "execution_count": 19,
     "metadata": {},
     "output_type": "execute_result"
    }
   ],
   "source": [
    "train_updates.head()"
   ]
  },
  {
   "cell_type": "code",
   "execution_count": 22,
   "metadata": {},
   "outputs": [],
   "source": [
    "filename = MrtRecommendationDependencies.get_dataset_path(\"train_status.csv\")"
   ]
  },
  {
   "cell_type": "code",
   "execution_count": 23,
   "metadata": {},
   "outputs": [],
   "source": [
    "train_updates.to_csv(filename, index=False)"
   ]
  },
  {
   "cell_type": "code",
   "execution_count": 6,
   "metadata": {},
   "outputs": [],
   "source": [
    "weather_df = pd.read_csv(MrtRecommendationDependencies.get_dataset_path(\"weather_filtered.csv\"), parse_dates=['datetime'], index_col=\"datetime\")"
   ]
  },
  {
   "cell_type": "code",
   "execution_count": 9,
   "metadata": {},
   "outputs": [],
   "source": [
    "station = 'north'\n",
    "transformed_df = pd.read_csv(MrtRecommendationDependencies.get_dataset_path(f\"{station}_transformed.csv\"), parse_dates=['datetime'], index_col=\"datetime\")"
   ]
  },
  {
   "cell_type": "code",
   "execution_count": 10,
   "metadata": {},
   "outputs": [],
   "source": [
    "new_df = transformed_df.join(weather_df, how='right')"
   ]
  },
  {
   "cell_type": "code",
   "execution_count": 12,
   "metadata": {},
   "outputs": [],
   "source": [
    "new_df.fillna(0,inplace=True)"
   ]
  },
  {
   "cell_type": "code",
   "execution_count": 13,
   "metadata": {},
   "outputs": [
    {
     "data": {
      "text/html": [
       "<div>\n",
       "<style scoped>\n",
       "    .dataframe tbody tr th:only-of-type {\n",
       "        vertical-align: middle;\n",
       "    }\n",
       "\n",
       "    .dataframe tbody tr th {\n",
       "        vertical-align: top;\n",
       "    }\n",
       "\n",
       "    .dataframe thead th {\n",
       "        text-align: right;\n",
       "    }\n",
       "</style>\n",
       "<table border=\"1\" class=\"dataframe\">\n",
       "  <thead>\n",
       "    <tr style=\"text-align: right;\">\n",
       "      <th></th>\n",
       "      <th>entry</th>\n",
       "      <th>exit</th>\n",
       "      <th>temp</th>\n",
       "      <th>humidity</th>\n",
       "      <th>rain_1h</th>\n",
       "      <th>rain_3h</th>\n",
       "      <th>weather_main</th>\n",
       "    </tr>\n",
       "    <tr>\n",
       "      <th>datetime</th>\n",
       "      <th></th>\n",
       "      <th></th>\n",
       "      <th></th>\n",
       "      <th></th>\n",
       "      <th></th>\n",
       "      <th></th>\n",
       "      <th></th>\n",
       "    </tr>\n",
       "  </thead>\n",
       "  <tbody>\n",
       "    <tr>\n",
       "      <th>2018-07-01 00:00:00</th>\n",
       "      <td>0.0</td>\n",
       "      <td>0.0</td>\n",
       "      <td>27.89</td>\n",
       "      <td>84</td>\n",
       "      <td>0.21</td>\n",
       "      <td>0.0</td>\n",
       "      <td>Rain</td>\n",
       "    </tr>\n",
       "    <tr>\n",
       "      <th>2018-07-01 01:00:00</th>\n",
       "      <td>0.0</td>\n",
       "      <td>0.0</td>\n",
       "      <td>27.91</td>\n",
       "      <td>84</td>\n",
       "      <td>0.11</td>\n",
       "      <td>0.0</td>\n",
       "      <td>Rain</td>\n",
       "    </tr>\n",
       "    <tr>\n",
       "      <th>2018-07-01 02:00:00</th>\n",
       "      <td>0.0</td>\n",
       "      <td>0.0</td>\n",
       "      <td>29.51</td>\n",
       "      <td>72</td>\n",
       "      <td>0.00</td>\n",
       "      <td>1.0</td>\n",
       "      <td>Rain</td>\n",
       "    </tr>\n",
       "    <tr>\n",
       "      <th>2018-07-01 03:00:00</th>\n",
       "      <td>0.0</td>\n",
       "      <td>0.0</td>\n",
       "      <td>29.87</td>\n",
       "      <td>72</td>\n",
       "      <td>0.00</td>\n",
       "      <td>1.0</td>\n",
       "      <td>Rain</td>\n",
       "    </tr>\n",
       "    <tr>\n",
       "      <th>2018-07-01 04:00:00</th>\n",
       "      <td>631.0</td>\n",
       "      <td>0.0</td>\n",
       "      <td>29.82</td>\n",
       "      <td>72</td>\n",
       "      <td>0.00</td>\n",
       "      <td>1.0</td>\n",
       "      <td>Haze</td>\n",
       "    </tr>\n",
       "  </tbody>\n",
       "</table>\n",
       "</div>"
      ],
      "text/plain": [
       "                     entry  exit   temp  humidity  rain_1h  rain_3h  \\\n",
       "datetime                                                              \n",
       "2018-07-01 00:00:00    0.0   0.0  27.89        84     0.21      0.0   \n",
       "2018-07-01 01:00:00    0.0   0.0  27.91        84     0.11      0.0   \n",
       "2018-07-01 02:00:00    0.0   0.0  29.51        72     0.00      1.0   \n",
       "2018-07-01 03:00:00    0.0   0.0  29.87        72     0.00      1.0   \n",
       "2018-07-01 04:00:00  631.0   0.0  29.82        72     0.00      1.0   \n",
       "\n",
       "                    weather_main  \n",
       "datetime                          \n",
       "2018-07-01 00:00:00         Rain  \n",
       "2018-07-01 01:00:00         Rain  \n",
       "2018-07-01 02:00:00         Rain  \n",
       "2018-07-01 03:00:00         Rain  \n",
       "2018-07-01 04:00:00         Haze  "
      ]
     },
     "execution_count": 13,
     "metadata": {},
     "output_type": "execute_result"
    }
   ],
   "source": [
    "new_df.head()"
   ]
  },
  {
   "cell_type": "code",
   "execution_count": 16,
   "metadata": {},
   "outputs": [],
   "source": [
    "filename = MrtRecommendationDependencies.get_dataset_path(f\"{station}_weather_transformed.csv\")\n",
    "new_df.to_csv(filename, index=False)"
   ]
  },
  {
   "cell_type": "code",
   "execution_count": 23,
   "metadata": {},
   "outputs": [
    {
     "name": "stdout",
     "output_type": "stream",
     "text": [
      "north Started\n",
      "north Ended\n",
      "qave Started\n",
      "qave Ended\n",
      "kamuning Started\n",
      "kamuning Ended\n",
      "cubao Started\n",
      "cubao Ended\n",
      "santolan Started\n",
      "santolan Ended\n",
      "ortigas Started\n",
      "ortigas Ended\n",
      "shaw Started\n",
      "shaw Ended\n",
      "boni Started\n",
      "boni Ended\n",
      "guada Started\n",
      "guada Ended\n",
      "buendia Started\n",
      "buendia Ended\n",
      "ayala Started\n",
      "ayala Ended\n",
      "magallanes Started\n",
      "magallanes Ended\n",
      "taft Started\n",
      "taft Ended\n"
     ]
    }
   ],
   "source": [
    "weather_df = pd.read_csv(MrtRecommendationDependencies.get_dataset_path(\"weather_filtered.csv\"), parse_dates=['datetime'], index_col=\"datetime\")\n",
    "for station in stations:\n",
    "    print(f\"{station} Started\")\n",
    "    transformed_df = pd.read_csv(MrtRecommendationDependencies.get_dataset_path(f\"{station}_transformed.csv\"), parse_dates=['datetime'], index_col=\"datetime\")\n",
    "    new_df = transformed_df.join(weather_df, how='right')\n",
    "    new_df.fillna(0,inplace=True)\n",
    "    filename = MrtRecommendationDependencies.get_dataset_path(f\"{station}_weather_transformed.csv\")\n",
    "    new_df.to_csv(filename)\n",
    "    print(f\"{station} Ended\")"
   ]
  },
  {
   "cell_type": "code",
   "execution_count": 53,
   "metadata": {},
   "outputs": [],
   "source": [
    "station = 'north'\n",
    "transformed_df = pd.read_csv(MrtRecommendationDependencies.get_dataset_path(f\"{station}_weather_transformed.csv\"),parse_dates=[\"datetime\"])"
   ]
  },
  {
   "cell_type": "code",
   "execution_count": 29,
   "metadata": {},
   "outputs": [
    {
     "data": {
      "text/html": [
       "<div>\n",
       "<style scoped>\n",
       "    .dataframe tbody tr th:only-of-type {\n",
       "        vertical-align: middle;\n",
       "    }\n",
       "\n",
       "    .dataframe tbody tr th {\n",
       "        vertical-align: top;\n",
       "    }\n",
       "\n",
       "    .dataframe thead th {\n",
       "        text-align: right;\n",
       "    }\n",
       "</style>\n",
       "<table border=\"1\" class=\"dataframe\">\n",
       "  <thead>\n",
       "    <tr style=\"text-align: right;\">\n",
       "      <th></th>\n",
       "      <th>datetime</th>\n",
       "      <th>entry</th>\n",
       "      <th>exit</th>\n",
       "      <th>temp</th>\n",
       "      <th>humidity</th>\n",
       "      <th>rain_1h</th>\n",
       "      <th>rain_3h</th>\n",
       "      <th>weather_main</th>\n",
       "    </tr>\n",
       "  </thead>\n",
       "  <tbody>\n",
       "    <tr>\n",
       "      <th>0</th>\n",
       "      <td>2018-07-01 00:00:00</td>\n",
       "      <td>0.0</td>\n",
       "      <td>0.0</td>\n",
       "      <td>27.89</td>\n",
       "      <td>84</td>\n",
       "      <td>0.21</td>\n",
       "      <td>0.0</td>\n",
       "      <td>Rain</td>\n",
       "    </tr>\n",
       "    <tr>\n",
       "      <th>1</th>\n",
       "      <td>2018-07-01 01:00:00</td>\n",
       "      <td>0.0</td>\n",
       "      <td>0.0</td>\n",
       "      <td>27.91</td>\n",
       "      <td>84</td>\n",
       "      <td>0.11</td>\n",
       "      <td>0.0</td>\n",
       "      <td>Rain</td>\n",
       "    </tr>\n",
       "    <tr>\n",
       "      <th>2</th>\n",
       "      <td>2018-07-01 02:00:00</td>\n",
       "      <td>0.0</td>\n",
       "      <td>0.0</td>\n",
       "      <td>29.51</td>\n",
       "      <td>72</td>\n",
       "      <td>0.00</td>\n",
       "      <td>1.0</td>\n",
       "      <td>Rain</td>\n",
       "    </tr>\n",
       "    <tr>\n",
       "      <th>3</th>\n",
       "      <td>2018-07-01 03:00:00</td>\n",
       "      <td>0.0</td>\n",
       "      <td>0.0</td>\n",
       "      <td>29.87</td>\n",
       "      <td>72</td>\n",
       "      <td>0.00</td>\n",
       "      <td>1.0</td>\n",
       "      <td>Rain</td>\n",
       "    </tr>\n",
       "    <tr>\n",
       "      <th>4</th>\n",
       "      <td>2018-07-01 04:00:00</td>\n",
       "      <td>631.0</td>\n",
       "      <td>0.0</td>\n",
       "      <td>29.82</td>\n",
       "      <td>72</td>\n",
       "      <td>0.00</td>\n",
       "      <td>1.0</td>\n",
       "      <td>Haze</td>\n",
       "    </tr>\n",
       "  </tbody>\n",
       "</table>\n",
       "</div>"
      ],
      "text/plain": [
       "              datetime  entry  exit   temp  humidity  rain_1h  rain_3h  \\\n",
       "0  2018-07-01 00:00:00    0.0   0.0  27.89        84     0.21      0.0   \n",
       "1  2018-07-01 01:00:00    0.0   0.0  27.91        84     0.11      0.0   \n",
       "2  2018-07-01 02:00:00    0.0   0.0  29.51        72     0.00      1.0   \n",
       "3  2018-07-01 03:00:00    0.0   0.0  29.87        72     0.00      1.0   \n",
       "4  2018-07-01 04:00:00  631.0   0.0  29.82        72     0.00      1.0   \n",
       "\n",
       "  weather_main  \n",
       "0         Rain  \n",
       "1         Rain  \n",
       "2         Rain  \n",
       "3         Rain  \n",
       "4         Haze  "
      ]
     },
     "execution_count": 29,
     "metadata": {},
     "output_type": "execute_result"
    }
   ],
   "source": [
    "transformed_df.head()"
   ]
  },
  {
   "cell_type": "code",
   "execution_count": 54,
   "metadata": {},
   "outputs": [],
   "source": [
    "train_updates = pd.read_csv(MrtRecommendationDependencies.get_dataset_path(\"train_status.csv\"),parse_dates=['datetime'])"
   ]
  },
  {
   "cell_type": "code",
   "execution_count": 55,
   "metadata": {},
   "outputs": [
    {
     "data": {
      "text/html": [
       "<div>\n",
       "<style scoped>\n",
       "    .dataframe tbody tr th:only-of-type {\n",
       "        vertical-align: middle;\n",
       "    }\n",
       "\n",
       "    .dataframe tbody tr th {\n",
       "        vertical-align: top;\n",
       "    }\n",
       "\n",
       "    .dataframe thead th {\n",
       "        text-align: right;\n",
       "    }\n",
       "</style>\n",
       "<table border=\"1\" class=\"dataframe\">\n",
       "  <thead>\n",
       "    <tr style=\"text-align: right;\">\n",
       "      <th></th>\n",
       "      <th>datetime</th>\n",
       "      <th>num_train_running</th>\n",
       "      <th>num_train_operational</th>\n",
       "      <th>num_dalian_train_running</th>\n",
       "      <th>num_dalian_train_operational</th>\n",
       "      <th>headway</th>\n",
       "    </tr>\n",
       "  </thead>\n",
       "  <tbody>\n",
       "    <tr>\n",
       "      <th>0</th>\n",
       "      <td>2018-07-01 19:00:00</td>\n",
       "      <td>12</td>\n",
       "      <td>13.0</td>\n",
       "      <td>0.0</td>\n",
       "      <td>0</td>\n",
       "      <td>8.5</td>\n",
       "    </tr>\n",
       "    <tr>\n",
       "      <th>1</th>\n",
       "      <td>2018-07-02 05:00:00</td>\n",
       "      <td>8</td>\n",
       "      <td>8.0</td>\n",
       "      <td>0.0</td>\n",
       "      <td>0</td>\n",
       "      <td>8.0</td>\n",
       "    </tr>\n",
       "    <tr>\n",
       "      <th>2</th>\n",
       "      <td>2018-07-03 05:00:00</td>\n",
       "      <td>7</td>\n",
       "      <td>7.0</td>\n",
       "      <td>0.0</td>\n",
       "      <td>0</td>\n",
       "      <td>8.0</td>\n",
       "    </tr>\n",
       "    <tr>\n",
       "      <th>3</th>\n",
       "      <td>2018-07-02 18:00:00</td>\n",
       "      <td>15</td>\n",
       "      <td>15.0</td>\n",
       "      <td>0.0</td>\n",
       "      <td>0</td>\n",
       "      <td>7.0</td>\n",
       "    </tr>\n",
       "    <tr>\n",
       "      <th>4</th>\n",
       "      <td>2018-07-04 05:00:00</td>\n",
       "      <td>9</td>\n",
       "      <td>9.0</td>\n",
       "      <td>0.0</td>\n",
       "      <td>0</td>\n",
       "      <td>8.0</td>\n",
       "    </tr>\n",
       "  </tbody>\n",
       "</table>\n",
       "</div>"
      ],
      "text/plain": [
       "             datetime  num_train_running  num_train_operational  \\\n",
       "0 2018-07-01 19:00:00                 12                   13.0   \n",
       "1 2018-07-02 05:00:00                  8                    8.0   \n",
       "2 2018-07-03 05:00:00                  7                    7.0   \n",
       "3 2018-07-02 18:00:00                 15                   15.0   \n",
       "4 2018-07-04 05:00:00                  9                    9.0   \n",
       "\n",
       "   num_dalian_train_running  num_dalian_train_operational  headway  \n",
       "0                       0.0                             0      8.5  \n",
       "1                       0.0                             0      8.0  \n",
       "2                       0.0                             0      8.0  \n",
       "3                       0.0                             0      7.0  \n",
       "4                       0.0                             0      8.0  "
      ]
     },
     "execution_count": 55,
     "metadata": {},
     "output_type": "execute_result"
    }
   ],
   "source": [
    "train_updates.head()"
   ]
  },
  {
   "cell_type": "code",
   "execution_count": 34,
   "metadata": {},
   "outputs": [],
   "source": [
    "train_updates_with_ridership = pd.DataFrame()"
   ]
  },
  {
   "cell_type": "code",
   "execution_count": 42,
   "metadata": {},
   "outputs": [],
   "source": [
    "new_df = train_updates_with_ridership.append(train_updates,ignore_index=True)"
   ]
  },
  {
   "cell_type": "code",
   "execution_count": 44,
   "metadata": {},
   "outputs": [
    {
     "data": {
      "text/plain": [
       "5448"
      ]
     },
     "execution_count": 44,
     "metadata": {},
     "output_type": "execute_result"
    }
   ],
   "source": [
    "new_df.append(train_updates,ignore_index=True,verify_integrity=False)\n",
    "new_df.size"
   ]
  },
  {
   "cell_type": "code",
   "execution_count": 56,
   "metadata": {},
   "outputs": [],
   "source": [
    "temp_df = train_updates.merge(transformed_df, left_on=\"datetime\", right_on=\"datetime\", how=\"right\")"
   ]
  },
  {
   "cell_type": "code",
   "execution_count": 57,
   "metadata": {},
   "outputs": [
    {
     "data": {
      "text/html": [
       "<div>\n",
       "<style scoped>\n",
       "    .dataframe tbody tr th:only-of-type {\n",
       "        vertical-align: middle;\n",
       "    }\n",
       "\n",
       "    .dataframe tbody tr th {\n",
       "        vertical-align: top;\n",
       "    }\n",
       "\n",
       "    .dataframe thead th {\n",
       "        text-align: right;\n",
       "    }\n",
       "</style>\n",
       "<table border=\"1\" class=\"dataframe\">\n",
       "  <thead>\n",
       "    <tr style=\"text-align: right;\">\n",
       "      <th></th>\n",
       "      <th>datetime</th>\n",
       "      <th>num_train_running</th>\n",
       "      <th>num_train_operational</th>\n",
       "      <th>num_dalian_train_running</th>\n",
       "      <th>num_dalian_train_operational</th>\n",
       "      <th>headway</th>\n",
       "      <th>entry</th>\n",
       "      <th>exit</th>\n",
       "      <th>temp</th>\n",
       "      <th>humidity</th>\n",
       "      <th>rain_1h</th>\n",
       "      <th>rain_3h</th>\n",
       "      <th>weather_main</th>\n",
       "    </tr>\n",
       "  </thead>\n",
       "  <tbody>\n",
       "    <tr>\n",
       "      <th>0</th>\n",
       "      <td>2018-07-01 19:00:00</td>\n",
       "      <td>12.0</td>\n",
       "      <td>13.0</td>\n",
       "      <td>0.0</td>\n",
       "      <td>0.0</td>\n",
       "      <td>8.5</td>\n",
       "      <td>2410.0</td>\n",
       "      <td>3426.0</td>\n",
       "      <td>26.41</td>\n",
       "      <td>87</td>\n",
       "      <td>0.0</td>\n",
       "      <td>0.0</td>\n",
       "      <td>Haze</td>\n",
       "    </tr>\n",
       "    <tr>\n",
       "      <th>1</th>\n",
       "      <td>2018-07-02 05:00:00</td>\n",
       "      <td>8.0</td>\n",
       "      <td>8.0</td>\n",
       "      <td>0.0</td>\n",
       "      <td>0.0</td>\n",
       "      <td>8.0</td>\n",
       "      <td>2752.0</td>\n",
       "      <td>2.0</td>\n",
       "      <td>31.29</td>\n",
       "      <td>60</td>\n",
       "      <td>0.0</td>\n",
       "      <td>0.0</td>\n",
       "      <td>Haze</td>\n",
       "    </tr>\n",
       "    <tr>\n",
       "      <th>2</th>\n",
       "      <td>2018-07-03 05:00:00</td>\n",
       "      <td>7.0</td>\n",
       "      <td>7.0</td>\n",
       "      <td>0.0</td>\n",
       "      <td>0.0</td>\n",
       "      <td>8.0</td>\n",
       "      <td>2773.0</td>\n",
       "      <td>0.0</td>\n",
       "      <td>30.09</td>\n",
       "      <td>66</td>\n",
       "      <td>0.0</td>\n",
       "      <td>0.0</td>\n",
       "      <td>Haze</td>\n",
       "    </tr>\n",
       "    <tr>\n",
       "      <th>3</th>\n",
       "      <td>2018-07-02 18:00:00</td>\n",
       "      <td>15.0</td>\n",
       "      <td>15.0</td>\n",
       "      <td>0.0</td>\n",
       "      <td>0.0</td>\n",
       "      <td>7.0</td>\n",
       "      <td>2678.0</td>\n",
       "      <td>4303.0</td>\n",
       "      <td>27.23</td>\n",
       "      <td>84</td>\n",
       "      <td>0.0</td>\n",
       "      <td>0.0</td>\n",
       "      <td>Haze</td>\n",
       "    </tr>\n",
       "    <tr>\n",
       "      <th>4</th>\n",
       "      <td>2018-07-04 05:00:00</td>\n",
       "      <td>9.0</td>\n",
       "      <td>9.0</td>\n",
       "      <td>0.0</td>\n",
       "      <td>0.0</td>\n",
       "      <td>8.0</td>\n",
       "      <td>3013.0</td>\n",
       "      <td>3.0</td>\n",
       "      <td>31.24</td>\n",
       "      <td>60</td>\n",
       "      <td>0.0</td>\n",
       "      <td>0.0</td>\n",
       "      <td>Haze</td>\n",
       "    </tr>\n",
       "  </tbody>\n",
       "</table>\n",
       "</div>"
      ],
      "text/plain": [
       "             datetime  num_train_running  num_train_operational  \\\n",
       "0 2018-07-01 19:00:00               12.0                   13.0   \n",
       "1 2018-07-02 05:00:00                8.0                    8.0   \n",
       "2 2018-07-03 05:00:00                7.0                    7.0   \n",
       "3 2018-07-02 18:00:00               15.0                   15.0   \n",
       "4 2018-07-04 05:00:00                9.0                    9.0   \n",
       "\n",
       "   num_dalian_train_running  num_dalian_train_operational  headway   entry  \\\n",
       "0                       0.0                           0.0      8.5  2410.0   \n",
       "1                       0.0                           0.0      8.0  2752.0   \n",
       "2                       0.0                           0.0      8.0  2773.0   \n",
       "3                       0.0                           0.0      7.0  2678.0   \n",
       "4                       0.0                           0.0      8.0  3013.0   \n",
       "\n",
       "     exit   temp  humidity  rain_1h  rain_3h weather_main  \n",
       "0  3426.0  26.41        87      0.0      0.0         Haze  \n",
       "1     2.0  31.29        60      0.0      0.0         Haze  \n",
       "2     0.0  30.09        66      0.0      0.0         Haze  \n",
       "3  4303.0  27.23        84      0.0      0.0         Haze  \n",
       "4     3.0  31.24        60      0.0      0.0         Haze  "
      ]
     },
     "execution_count": 57,
     "metadata": {},
     "output_type": "execute_result"
    }
   ],
   "source": [
    "temp_df.head()"
   ]
  },
  {
   "cell_type": "code",
   "execution_count": 62,
   "metadata": {},
   "outputs": [
    {
     "data": {
      "text/plain": [
       "(904, 13)"
      ]
     },
     "execution_count": 62,
     "metadata": {},
     "output_type": "execute_result"
    }
   ],
   "source": [
    "temp_df[temp_df['headway']>0].shape"
   ]
  },
  {
   "cell_type": "code",
   "execution_count": 77,
   "metadata": {},
   "outputs": [],
   "source": [
    "train_updates_with_ridership = pd.DataFrame()\n",
    "train_updates = pd.read_csv(MrtRecommendationDependencies.get_dataset_path(\"train_status.csv\"),parse_dates=['datetime'])\n",
    "for station in stations:\n",
    "    transformed_df = pd.read_csv(MrtRecommendationDependencies.get_dataset_path(f\"{station}_weather_transformed.csv\"),parse_dates=[\"datetime\"])\n",
    "    temp_df = train_updates.merge(transformed_df, left_on=\"datetime\", right_on=\"datetime\", how=\"right\")\n",
    "    temp_df = temp_df[temp_df['headway']>0]\n",
    "    train_updates_with_ridership = train_updates_with_ridership.append(temp_df,ignore_index=True)"
   ]
  },
  {
   "cell_type": "code",
   "execution_count": 78,
   "metadata": {},
   "outputs": [
    {
     "data": {
      "text/plain": [
       "(11752, 13)"
      ]
     },
     "execution_count": 78,
     "metadata": {},
     "output_type": "execute_result"
    }
   ],
   "source": [
    "train_updates_with_ridership.shape"
   ]
  },
  {
   "cell_type": "code",
   "execution_count": 79,
   "metadata": {},
   "outputs": [],
   "source": [
    "train_updates_with_ridership.drop(['datetime', 'weather_main'], axis=1, inplace=True)"
   ]
  },
  {
   "cell_type": "code",
   "execution_count": 80,
   "metadata": {},
   "outputs": [
    {
     "data": {
      "text/html": [
       "<div>\n",
       "<style scoped>\n",
       "    .dataframe tbody tr th:only-of-type {\n",
       "        vertical-align: middle;\n",
       "    }\n",
       "\n",
       "    .dataframe tbody tr th {\n",
       "        vertical-align: top;\n",
       "    }\n",
       "\n",
       "    .dataframe thead th {\n",
       "        text-align: right;\n",
       "    }\n",
       "</style>\n",
       "<table border=\"1\" class=\"dataframe\">\n",
       "  <thead>\n",
       "    <tr style=\"text-align: right;\">\n",
       "      <th></th>\n",
       "      <th>num_train_running</th>\n",
       "      <th>num_train_operational</th>\n",
       "      <th>num_dalian_train_running</th>\n",
       "      <th>num_dalian_train_operational</th>\n",
       "      <th>headway</th>\n",
       "      <th>entry</th>\n",
       "      <th>exit</th>\n",
       "      <th>temp</th>\n",
       "      <th>humidity</th>\n",
       "      <th>rain_1h</th>\n",
       "      <th>rain_3h</th>\n",
       "    </tr>\n",
       "  </thead>\n",
       "  <tbody>\n",
       "    <tr>\n",
       "      <th>0</th>\n",
       "      <td>12.0</td>\n",
       "      <td>13.0</td>\n",
       "      <td>0.0</td>\n",
       "      <td>0.0</td>\n",
       "      <td>8.5</td>\n",
       "      <td>2410.0</td>\n",
       "      <td>3426.0</td>\n",
       "      <td>26.41</td>\n",
       "      <td>87</td>\n",
       "      <td>0.0</td>\n",
       "      <td>0.0</td>\n",
       "    </tr>\n",
       "    <tr>\n",
       "      <th>1</th>\n",
       "      <td>8.0</td>\n",
       "      <td>8.0</td>\n",
       "      <td>0.0</td>\n",
       "      <td>0.0</td>\n",
       "      <td>8.0</td>\n",
       "      <td>2752.0</td>\n",
       "      <td>2.0</td>\n",
       "      <td>31.29</td>\n",
       "      <td>60</td>\n",
       "      <td>0.0</td>\n",
       "      <td>0.0</td>\n",
       "    </tr>\n",
       "    <tr>\n",
       "      <th>2</th>\n",
       "      <td>7.0</td>\n",
       "      <td>7.0</td>\n",
       "      <td>0.0</td>\n",
       "      <td>0.0</td>\n",
       "      <td>8.0</td>\n",
       "      <td>2773.0</td>\n",
       "      <td>0.0</td>\n",
       "      <td>30.09</td>\n",
       "      <td>66</td>\n",
       "      <td>0.0</td>\n",
       "      <td>0.0</td>\n",
       "    </tr>\n",
       "    <tr>\n",
       "      <th>3</th>\n",
       "      <td>15.0</td>\n",
       "      <td>15.0</td>\n",
       "      <td>0.0</td>\n",
       "      <td>0.0</td>\n",
       "      <td>7.0</td>\n",
       "      <td>2678.0</td>\n",
       "      <td>4303.0</td>\n",
       "      <td>27.23</td>\n",
       "      <td>84</td>\n",
       "      <td>0.0</td>\n",
       "      <td>0.0</td>\n",
       "    </tr>\n",
       "    <tr>\n",
       "      <th>4</th>\n",
       "      <td>9.0</td>\n",
       "      <td>9.0</td>\n",
       "      <td>0.0</td>\n",
       "      <td>0.0</td>\n",
       "      <td>8.0</td>\n",
       "      <td>3013.0</td>\n",
       "      <td>3.0</td>\n",
       "      <td>31.24</td>\n",
       "      <td>60</td>\n",
       "      <td>0.0</td>\n",
       "      <td>0.0</td>\n",
       "    </tr>\n",
       "  </tbody>\n",
       "</table>\n",
       "</div>"
      ],
      "text/plain": [
       "   num_train_running  num_train_operational  num_dalian_train_running  \\\n",
       "0               12.0                   13.0                       0.0   \n",
       "1                8.0                    8.0                       0.0   \n",
       "2                7.0                    7.0                       0.0   \n",
       "3               15.0                   15.0                       0.0   \n",
       "4                9.0                    9.0                       0.0   \n",
       "\n",
       "   num_dalian_train_operational  headway   entry    exit   temp  humidity  \\\n",
       "0                           0.0      8.5  2410.0  3426.0  26.41        87   \n",
       "1                           0.0      8.0  2752.0     2.0  31.29        60   \n",
       "2                           0.0      8.0  2773.0     0.0  30.09        66   \n",
       "3                           0.0      7.0  2678.0  4303.0  27.23        84   \n",
       "4                           0.0      8.0  3013.0     3.0  31.24        60   \n",
       "\n",
       "   rain_1h  rain_3h  \n",
       "0      0.0      0.0  \n",
       "1      0.0      0.0  \n",
       "2      0.0      0.0  \n",
       "3      0.0      0.0  \n",
       "4      0.0      0.0  "
      ]
     },
     "execution_count": 80,
     "metadata": {},
     "output_type": "execute_result"
    }
   ],
   "source": [
    "train_updates_with_ridership.head()"
   ]
  },
  {
   "cell_type": "code",
   "execution_count": 81,
   "metadata": {},
   "outputs": [],
   "source": [
    "train_updates_with_ridership.to_csv(MrtRecommendationDependencies.get_dataset_path(\"train_updates_with_ridership.csv\"), index=False)"
   ]
  },
  {
   "cell_type": "code",
   "execution_count": null,
   "metadata": {},
   "outputs": [],
   "source": []
  }
 ],
 "metadata": {
  "kernelspec": {
   "display_name": "Python 3",
   "language": "python",
   "name": "python3"
  },
  "language_info": {
   "codemirror_mode": {
    "name": "ipython",
    "version": 3
   },
   "file_extension": ".py",
   "mimetype": "text/x-python",
   "name": "python",
   "nbconvert_exporter": "python",
   "pygments_lexer": "ipython3",
   "version": "3.8.3"
  }
 },
 "nbformat": 4,
 "nbformat_minor": 4
}
