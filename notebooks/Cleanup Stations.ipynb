{
 "cells": [
  {
   "cell_type": "code",
   "execution_count": 13,
   "metadata": {},
   "outputs": [],
   "source": [
    "import import_files as MrtRecommendationDependencies\n",
    "from ridership_transformer import RidershipTransformer\n",
    "from ridership_cleaner import RidershipCleaner\n",
    "from database import TrainUpdate\n",
    "import pandas as pd"
   ]
  },
  {
   "cell_type": "code",
   "execution_count": 3,
   "metadata": {},
   "outputs": [],
   "source": [
    "months = [\"january\", \"february\", \"march\", \"april\", \"may\", \"june\", \"july\", \"august\", \"september\", \"october\", \"november\", \"december\"]\n",
    "\n",
    "stations = ['north','qave','kamuning','cubao','santolan','ortigas','shaw','boni','guada','buendia','ayala','magallanes','taft']"
   ]
  },
  {
   "cell_type": "code",
   "execution_count": 10,
   "metadata": {},
   "outputs": [
    {
     "name": "stderr",
     "output_type": "stream",
     "text": [
      "/Users/karl-potenciano/opt/anaconda3/lib/python3.8/site-packages/pandas/core/frame.py:4147: SettingWithCopyWarning: \n",
      "A value is trying to be set on a copy of a slice from a DataFrame\n",
      "\n",
      "See the caveats in the documentation: https://pandas.pydata.org/pandas-docs/stable/user_guide/indexing.html#returning-a-view-versus-a-copy\n",
      "  return super().fillna(\n"
     ]
    },
    {
     "name": "stdout",
     "output_type": "stream",
     "text": [
      "Dataframe saved to /Users/karl-potenciano/Sites/mrt-recommender/data/datasets/north.csv\n",
      "Dataframe saved to /Users/karl-potenciano/Sites/mrt-recommender/data/datasets/north_transformed.csv\n",
      "Dataframe saved to /Users/karl-potenciano/Sites/mrt-recommender/data/datasets/qave.csv\n",
      "Dataframe saved to /Users/karl-potenciano/Sites/mrt-recommender/data/datasets/qave_transformed.csv\n",
      "Dataframe saved to /Users/karl-potenciano/Sites/mrt-recommender/data/datasets/kamuning.csv\n",
      "Dataframe saved to /Users/karl-potenciano/Sites/mrt-recommender/data/datasets/kamuning_transformed.csv\n",
      "Dataframe saved to /Users/karl-potenciano/Sites/mrt-recommender/data/datasets/cubao.csv\n",
      "Dataframe saved to /Users/karl-potenciano/Sites/mrt-recommender/data/datasets/cubao_transformed.csv\n",
      "Dataframe saved to /Users/karl-potenciano/Sites/mrt-recommender/data/datasets/santolan.csv\n",
      "Dataframe saved to /Users/karl-potenciano/Sites/mrt-recommender/data/datasets/santolan_transformed.csv\n",
      "Dataframe saved to /Users/karl-potenciano/Sites/mrt-recommender/data/datasets/ortigas.csv\n",
      "Dataframe saved to /Users/karl-potenciano/Sites/mrt-recommender/data/datasets/ortigas_transformed.csv\n",
      "Dataframe saved to /Users/karl-potenciano/Sites/mrt-recommender/data/datasets/shaw.csv\n",
      "Dataframe saved to /Users/karl-potenciano/Sites/mrt-recommender/data/datasets/shaw_transformed.csv\n",
      "Dataframe saved to /Users/karl-potenciano/Sites/mrt-recommender/data/datasets/boni.csv\n",
      "Dataframe saved to /Users/karl-potenciano/Sites/mrt-recommender/data/datasets/boni_transformed.csv\n",
      "Dataframe saved to /Users/karl-potenciano/Sites/mrt-recommender/data/datasets/guada.csv\n",
      "Dataframe saved to /Users/karl-potenciano/Sites/mrt-recommender/data/datasets/guada_transformed.csv\n",
      "Dataframe saved to /Users/karl-potenciano/Sites/mrt-recommender/data/datasets/buendia.csv\n",
      "Dataframe saved to /Users/karl-potenciano/Sites/mrt-recommender/data/datasets/buendia_transformed.csv\n",
      "Dataframe saved to /Users/karl-potenciano/Sites/mrt-recommender/data/datasets/ayala.csv\n",
      "Dataframe saved to /Users/karl-potenciano/Sites/mrt-recommender/data/datasets/ayala_transformed.csv\n",
      "Dataframe saved to /Users/karl-potenciano/Sites/mrt-recommender/data/datasets/magallanes.csv\n",
      "Dataframe saved to /Users/karl-potenciano/Sites/mrt-recommender/data/datasets/magallanes_transformed.csv\n",
      "Dataframe saved to /Users/karl-potenciano/Sites/mrt-recommender/data/datasets/taft.csv\n",
      "Dataframe saved to /Users/karl-potenciano/Sites/mrt-recommender/data/datasets/taft_transformed.csv\n"
     ]
    }
   ],
   "source": [
    "cleaner = RidershipCleaner(\"~/Downloads/test.xlsx\")\n",
    "for station in stations:\n",
    "    cleaned_df = cleaner.clean_months(station,months,save_csv=True)\n",
    "    transformer = RidershipTransformer(cleaned_df)\n",
    "    transformed_df = transformer.transform()\n",
    "    transformer.save_csv(f\"{station}_transformed.csv\")"
   ]
  },
  {
   "cell_type": "code",
   "execution_count": 14,
   "metadata": {},
   "outputs": [],
   "source": [
    "query = TrainUpdate.filter(TrainUpdate.datetime != None)\n",
    "train_updates = pd.read_sql(query.statement, query.session.bind)"
   ]
  },
  {
   "cell_type": "code",
   "execution_count": 17,
   "metadata": {},
   "outputs": [],
   "source": [
    "train_updates.fillna(0,inplace=True)"
   ]
  },
  {
   "cell_type": "code",
   "execution_count": 18,
   "metadata": {},
   "outputs": [],
   "source": [
    "train_updates.drop('tweet_id', axis=1, inplace=True)"
   ]
  },
  {
   "cell_type": "code",
   "execution_count": 19,
   "metadata": {},
   "outputs": [
    {
     "data": {
      "text/html": [
       "<div>\n",
       "<style scoped>\n",
       "    .dataframe tbody tr th:only-of-type {\n",
       "        vertical-align: middle;\n",
       "    }\n",
       "\n",
       "    .dataframe tbody tr th {\n",
       "        vertical-align: top;\n",
       "    }\n",
       "\n",
       "    .dataframe thead th {\n",
       "        text-align: right;\n",
       "    }\n",
       "</style>\n",
       "<table border=\"1\" class=\"dataframe\">\n",
       "  <thead>\n",
       "    <tr style=\"text-align: right;\">\n",
       "      <th></th>\n",
       "      <th>datetime</th>\n",
       "      <th>num_train_running</th>\n",
       "      <th>num_train_operational</th>\n",
       "      <th>num_dalian_train_running</th>\n",
       "      <th>num_dalian_train_operational</th>\n",
       "      <th>headway</th>\n",
       "    </tr>\n",
       "  </thead>\n",
       "  <tbody>\n",
       "    <tr>\n",
       "      <th>0</th>\n",
       "      <td>2018-07-01 19:00:00</td>\n",
       "      <td>12</td>\n",
       "      <td>13.0</td>\n",
       "      <td>0.0</td>\n",
       "      <td>0</td>\n",
       "      <td>8.5</td>\n",
       "    </tr>\n",
       "    <tr>\n",
       "      <th>1</th>\n",
       "      <td>2018-07-02 05:00:00</td>\n",
       "      <td>8</td>\n",
       "      <td>8.0</td>\n",
       "      <td>0.0</td>\n",
       "      <td>0</td>\n",
       "      <td>8.0</td>\n",
       "    </tr>\n",
       "    <tr>\n",
       "      <th>2</th>\n",
       "      <td>2018-07-03 05:00:00</td>\n",
       "      <td>7</td>\n",
       "      <td>7.0</td>\n",
       "      <td>0.0</td>\n",
       "      <td>0</td>\n",
       "      <td>8.0</td>\n",
       "    </tr>\n",
       "    <tr>\n",
       "      <th>3</th>\n",
       "      <td>2018-07-02 18:00:00</td>\n",
       "      <td>15</td>\n",
       "      <td>15.0</td>\n",
       "      <td>0.0</td>\n",
       "      <td>0</td>\n",
       "      <td>7.0</td>\n",
       "    </tr>\n",
       "    <tr>\n",
       "      <th>4</th>\n",
       "      <td>2018-07-04 05:00:00</td>\n",
       "      <td>9</td>\n",
       "      <td>9.0</td>\n",
       "      <td>0.0</td>\n",
       "      <td>0</td>\n",
       "      <td>8.0</td>\n",
       "    </tr>\n",
       "  </tbody>\n",
       "</table>\n",
       "</div>"
      ],
      "text/plain": [
       "             datetime  num_train_running  num_train_operational  \\\n",
       "0 2018-07-01 19:00:00                 12                   13.0   \n",
       "1 2018-07-02 05:00:00                  8                    8.0   \n",
       "2 2018-07-03 05:00:00                  7                    7.0   \n",
       "3 2018-07-02 18:00:00                 15                   15.0   \n",
       "4 2018-07-04 05:00:00                  9                    9.0   \n",
       "\n",
       "   num_dalian_train_running  num_dalian_train_operational  headway  \n",
       "0                       0.0                             0      8.5  \n",
       "1                       0.0                             0      8.0  \n",
       "2                       0.0                             0      8.0  \n",
       "3                       0.0                             0      7.0  \n",
       "4                       0.0                             0      8.0  "
      ]
     },
     "execution_count": 19,
     "metadata": {},
     "output_type": "execute_result"
    }
   ],
   "source": [
    "train_updates.head()"
   ]
  },
  {
   "cell_type": "code",
   "execution_count": null,
   "metadata": {},
   "outputs": [],
   "source": [
    "MrtRecommendationDependencies.get_dataset_path()"
   ]
  }
 ],
 "metadata": {
  "kernelspec": {
   "display_name": "Python 3",
   "language": "python",
   "name": "python3"
  },
  "language_info": {
   "codemirror_mode": {
    "name": "ipython",
    "version": 3
   },
   "file_extension": ".py",
   "mimetype": "text/x-python",
   "name": "python",
   "nbconvert_exporter": "python",
   "pygments_lexer": "ipython3",
   "version": "3.8.3"
  }
 },
 "nbformat": 4,
 "nbformat_minor": 4
}
