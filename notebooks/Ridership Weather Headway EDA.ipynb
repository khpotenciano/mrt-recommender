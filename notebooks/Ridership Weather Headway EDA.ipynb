{
 "cells": [
  {
   "cell_type": "code",
   "execution_count": 22,
   "metadata": {},
   "outputs": [],
   "source": [
    "import import_files as MrtRecommendationDependencies\n",
    "from ridership_transformer import RidershipTransformer\n",
    "import pandas as pd\n",
    "import matplotlib.pyplot as plt\n",
    "import seaborn as sns \n",
    "import database\n",
    "from database import TrainUpdate\n",
    "from datetime import datetime\n",
    "import numpy as np"
   ]
  },
  {
   "cell_type": "code",
   "execution_count": 133,
   "metadata": {},
   "outputs": [],
   "source": [
    "#Train-Test Split Module\n",
    "from sklearn.model_selection import train_test_split\n",
    "\n",
    "#Linear Regression Algorithm from sklearn\n",
    "from sklearn import linear_model\n",
    "\n",
    "#Metrics to measure model performance\n",
    "from sklearn.metrics import r2_score, mean_absolute_error, mean_squared_error\n",
    "\n",
    "#Standard Scaler for Standardization\n",
    "from sklearn.preprocessing import StandardScaler, Normalizer"
   ]
  },
  {
   "cell_type": "code",
   "execution_count": 23,
   "metadata": {},
   "outputs": [],
   "source": [
    "ridership_df = pd.read_csv(MrtRecommendationDependencies.get_dataset_path(\"cubao_transformed.csv\"), parse_dates=['datetime'], index_col=\"datetime\")\n",
    "weather_df = pd.read_csv(MrtRecommendationDependencies.get_dataset_path(\"weather_filtered.csv\"), parse_dates=['datetime'], index_col=\"datetime\")\n"
   ]
  },
  {
   "cell_type": "code",
   "execution_count": 24,
   "metadata": {},
   "outputs": [],
   "source": [
    "new_df = ridership_df.join(weather_df, how=\"right\").fillna(0)"
   ]
  },
  {
   "cell_type": "code",
   "execution_count": 25,
   "metadata": {},
   "outputs": [],
   "source": [
    "query = TrainUpdate.filter(TrainUpdate.datetime != None)"
   ]
  },
  {
   "cell_type": "code",
   "execution_count": 27,
   "metadata": {},
   "outputs": [],
   "source": [
    "train_updates = pd.read_sql(query.statement, query.session.bind)\n",
    "train_updates.set_index(\"datetime\", inplace=True)"
   ]
  },
  {
   "cell_type": "code",
   "execution_count": 71,
   "metadata": {},
   "outputs": [],
   "source": [
    "df = new_df.join(train_updates, how=\"left\").fillna(0)"
   ]
  },
  {
   "cell_type": "code",
   "execution_count": 35,
   "metadata": {},
   "outputs": [
    {
     "data": {
      "text/html": [
       "<div>\n",
       "<style scoped>\n",
       "    .dataframe tbody tr th:only-of-type {\n",
       "        vertical-align: middle;\n",
       "    }\n",
       "\n",
       "    .dataframe tbody tr th {\n",
       "        vertical-align: top;\n",
       "    }\n",
       "\n",
       "    .dataframe thead th {\n",
       "        text-align: right;\n",
       "    }\n",
       "</style>\n",
       "<table border=\"1\" class=\"dataframe\">\n",
       "  <thead>\n",
       "    <tr style=\"text-align: right;\">\n",
       "      <th></th>\n",
       "      <th>entry</th>\n",
       "      <th>exit</th>\n",
       "      <th>temp</th>\n",
       "      <th>humidity</th>\n",
       "      <th>rain_1h</th>\n",
       "      <th>rain_3h</th>\n",
       "      <th>weather_main</th>\n",
       "      <th>tweet_id</th>\n",
       "      <th>num_train_running</th>\n",
       "      <th>num_train_operational</th>\n",
       "      <th>num_dalian_train_running</th>\n",
       "      <th>num_dalian_train_operational</th>\n",
       "      <th>headway</th>\n",
       "    </tr>\n",
       "    <tr>\n",
       "      <th>datetime</th>\n",
       "      <th></th>\n",
       "      <th></th>\n",
       "      <th></th>\n",
       "      <th></th>\n",
       "      <th></th>\n",
       "      <th></th>\n",
       "      <th></th>\n",
       "      <th></th>\n",
       "      <th></th>\n",
       "      <th></th>\n",
       "      <th></th>\n",
       "      <th></th>\n",
       "      <th></th>\n",
       "    </tr>\n",
       "  </thead>\n",
       "  <tbody>\n",
       "    <tr>\n",
       "      <th>2018-07-01 19:00:00</th>\n",
       "      <td>1865.0</td>\n",
       "      <td>3379.0</td>\n",
       "      <td>26.41</td>\n",
       "      <td>87</td>\n",
       "      <td>0.0</td>\n",
       "      <td>0.0</td>\n",
       "      <td>Haze</td>\n",
       "      <td>1.0</td>\n",
       "      <td>12.0</td>\n",
       "      <td>13.0</td>\n",
       "      <td>0.0</td>\n",
       "      <td>0</td>\n",
       "      <td>8.5</td>\n",
       "    </tr>\n",
       "    <tr>\n",
       "      <th>2018-07-02 05:00:00</th>\n",
       "      <td>1254.0</td>\n",
       "      <td>108.0</td>\n",
       "      <td>31.29</td>\n",
       "      <td>60</td>\n",
       "      <td>0.0</td>\n",
       "      <td>0.0</td>\n",
       "      <td>Haze</td>\n",
       "      <td>2.0</td>\n",
       "      <td>8.0</td>\n",
       "      <td>8.0</td>\n",
       "      <td>0.0</td>\n",
       "      <td>0</td>\n",
       "      <td>8.0</td>\n",
       "    </tr>\n",
       "    <tr>\n",
       "      <th>2018-07-02 18:00:00</th>\n",
       "      <td>2180.0</td>\n",
       "      <td>3415.0</td>\n",
       "      <td>27.23</td>\n",
       "      <td>84</td>\n",
       "      <td>0.0</td>\n",
       "      <td>0.0</td>\n",
       "      <td>Haze</td>\n",
       "      <td>4.0</td>\n",
       "      <td>15.0</td>\n",
       "      <td>15.0</td>\n",
       "      <td>0.0</td>\n",
       "      <td>0</td>\n",
       "      <td>7.0</td>\n",
       "    </tr>\n",
       "    <tr>\n",
       "      <th>2018-07-03 05:00:00</th>\n",
       "      <td>1255.0</td>\n",
       "      <td>172.0</td>\n",
       "      <td>30.09</td>\n",
       "      <td>66</td>\n",
       "      <td>0.0</td>\n",
       "      <td>0.0</td>\n",
       "      <td>Haze</td>\n",
       "      <td>3.0</td>\n",
       "      <td>7.0</td>\n",
       "      <td>7.0</td>\n",
       "      <td>0.0</td>\n",
       "      <td>0</td>\n",
       "      <td>8.0</td>\n",
       "    </tr>\n",
       "    <tr>\n",
       "      <th>2018-07-03 20:00:00</th>\n",
       "      <td>1502.0</td>\n",
       "      <td>2471.0</td>\n",
       "      <td>26.11</td>\n",
       "      <td>87</td>\n",
       "      <td>0.0</td>\n",
       "      <td>0.0</td>\n",
       "      <td>Haze</td>\n",
       "      <td>6.0</td>\n",
       "      <td>14.0</td>\n",
       "      <td>14.0</td>\n",
       "      <td>0.0</td>\n",
       "      <td>0</td>\n",
       "      <td>7.5</td>\n",
       "    </tr>\n",
       "    <tr>\n",
       "      <th>...</th>\n",
       "      <td>...</td>\n",
       "      <td>...</td>\n",
       "      <td>...</td>\n",
       "      <td>...</td>\n",
       "      <td>...</td>\n",
       "      <td>...</td>\n",
       "      <td>...</td>\n",
       "      <td>...</td>\n",
       "      <td>...</td>\n",
       "      <td>...</td>\n",
       "      <td>...</td>\n",
       "      <td>...</td>\n",
       "      <td>...</td>\n",
       "    </tr>\n",
       "    <tr>\n",
       "      <th>2019-04-30 07:00:00</th>\n",
       "      <td>1439.0</td>\n",
       "      <td>1750.0</td>\n",
       "      <td>34.63</td>\n",
       "      <td>33</td>\n",
       "      <td>0.0</td>\n",
       "      <td>0.0</td>\n",
       "      <td>Haze</td>\n",
       "      <td>1333.0</td>\n",
       "      <td>14.0</td>\n",
       "      <td>15.0</td>\n",
       "      <td>0.0</td>\n",
       "      <td>0</td>\n",
       "      <td>7.5</td>\n",
       "    </tr>\n",
       "    <tr>\n",
       "      <th>2019-04-30 12:00:00</th>\n",
       "      <td>2111.0</td>\n",
       "      <td>2124.0</td>\n",
       "      <td>30.03</td>\n",
       "      <td>63</td>\n",
       "      <td>0.0</td>\n",
       "      <td>0.0</td>\n",
       "      <td>Haze</td>\n",
       "      <td>1341.0</td>\n",
       "      <td>15.0</td>\n",
       "      <td>16.0</td>\n",
       "      <td>0.0</td>\n",
       "      <td>0</td>\n",
       "      <td>7.0</td>\n",
       "    </tr>\n",
       "    <tr>\n",
       "      <th>2019-04-30 15:00:00</th>\n",
       "      <td>2078.0</td>\n",
       "      <td>2453.0</td>\n",
       "      <td>28.82</td>\n",
       "      <td>66</td>\n",
       "      <td>0.0</td>\n",
       "      <td>0.0</td>\n",
       "      <td>Haze</td>\n",
       "      <td>1345.0</td>\n",
       "      <td>15.0</td>\n",
       "      <td>16.0</td>\n",
       "      <td>0.0</td>\n",
       "      <td>0</td>\n",
       "      <td>7.0</td>\n",
       "    </tr>\n",
       "    <tr>\n",
       "      <th>2019-04-30 19:00:00</th>\n",
       "      <td>2418.0</td>\n",
       "      <td>3690.0</td>\n",
       "      <td>27.66</td>\n",
       "      <td>70</td>\n",
       "      <td>0.0</td>\n",
       "      <td>0.0</td>\n",
       "      <td>Haze</td>\n",
       "      <td>1344.0</td>\n",
       "      <td>15.0</td>\n",
       "      <td>15.0</td>\n",
       "      <td>0.0</td>\n",
       "      <td>0</td>\n",
       "      <td>7.0</td>\n",
       "    </tr>\n",
       "    <tr>\n",
       "      <th>2019-05-01 07:00:00</th>\n",
       "      <td>954.0</td>\n",
       "      <td>1185.0</td>\n",
       "      <td>34.29</td>\n",
       "      <td>44</td>\n",
       "      <td>0.0</td>\n",
       "      <td>0.0</td>\n",
       "      <td>Haze</td>\n",
       "      <td>1340.0</td>\n",
       "      <td>12.0</td>\n",
       "      <td>13.0</td>\n",
       "      <td>0.0</td>\n",
       "      <td>0</td>\n",
       "      <td>8.5</td>\n",
       "    </tr>\n",
       "  </tbody>\n",
       "</table>\n",
       "<p>712 rows × 13 columns</p>\n",
       "</div>"
      ],
      "text/plain": [
       "                      entry    exit   temp  humidity  rain_1h  rain_3h  \\\n",
       "datetime                                                                 \n",
       "2018-07-01 19:00:00  1865.0  3379.0  26.41        87      0.0      0.0   \n",
       "2018-07-02 05:00:00  1254.0   108.0  31.29        60      0.0      0.0   \n",
       "2018-07-02 18:00:00  2180.0  3415.0  27.23        84      0.0      0.0   \n",
       "2018-07-03 05:00:00  1255.0   172.0  30.09        66      0.0      0.0   \n",
       "2018-07-03 20:00:00  1502.0  2471.0  26.11        87      0.0      0.0   \n",
       "...                     ...     ...    ...       ...      ...      ...   \n",
       "2019-04-30 07:00:00  1439.0  1750.0  34.63        33      0.0      0.0   \n",
       "2019-04-30 12:00:00  2111.0  2124.0  30.03        63      0.0      0.0   \n",
       "2019-04-30 15:00:00  2078.0  2453.0  28.82        66      0.0      0.0   \n",
       "2019-04-30 19:00:00  2418.0  3690.0  27.66        70      0.0      0.0   \n",
       "2019-05-01 07:00:00   954.0  1185.0  34.29        44      0.0      0.0   \n",
       "\n",
       "                    weather_main  tweet_id  num_train_running  \\\n",
       "datetime                                                        \n",
       "2018-07-01 19:00:00         Haze       1.0               12.0   \n",
       "2018-07-02 05:00:00         Haze       2.0                8.0   \n",
       "2018-07-02 18:00:00         Haze       4.0               15.0   \n",
       "2018-07-03 05:00:00         Haze       3.0                7.0   \n",
       "2018-07-03 20:00:00         Haze       6.0               14.0   \n",
       "...                          ...       ...                ...   \n",
       "2019-04-30 07:00:00         Haze    1333.0               14.0   \n",
       "2019-04-30 12:00:00         Haze    1341.0               15.0   \n",
       "2019-04-30 15:00:00         Haze    1345.0               15.0   \n",
       "2019-04-30 19:00:00         Haze    1344.0               15.0   \n",
       "2019-05-01 07:00:00         Haze    1340.0               12.0   \n",
       "\n",
       "                     num_train_operational  num_dalian_train_running  \\\n",
       "datetime                                                               \n",
       "2018-07-01 19:00:00                   13.0                       0.0   \n",
       "2018-07-02 05:00:00                    8.0                       0.0   \n",
       "2018-07-02 18:00:00                   15.0                       0.0   \n",
       "2018-07-03 05:00:00                    7.0                       0.0   \n",
       "2018-07-03 20:00:00                   14.0                       0.0   \n",
       "...                                    ...                       ...   \n",
       "2019-04-30 07:00:00                   15.0                       0.0   \n",
       "2019-04-30 12:00:00                   16.0                       0.0   \n",
       "2019-04-30 15:00:00                   16.0                       0.0   \n",
       "2019-04-30 19:00:00                   15.0                       0.0   \n",
       "2019-05-01 07:00:00                   13.0                       0.0   \n",
       "\n",
       "                     num_dalian_train_operational  headway  \n",
       "datetime                                                    \n",
       "2018-07-01 19:00:00                             0      8.5  \n",
       "2018-07-02 05:00:00                             0      8.0  \n",
       "2018-07-02 18:00:00                             0      7.0  \n",
       "2018-07-03 05:00:00                             0      8.0  \n",
       "2018-07-03 20:00:00                             0      7.5  \n",
       "...                                           ...      ...  \n",
       "2019-04-30 07:00:00                             0      7.5  \n",
       "2019-04-30 12:00:00                             0      7.0  \n",
       "2019-04-30 15:00:00                             0      7.0  \n",
       "2019-04-30 19:00:00                             0      7.0  \n",
       "2019-05-01 07:00:00                             0      8.5  \n",
       "\n",
       "[712 rows x 13 columns]"
      ]
     },
     "execution_count": 35,
     "metadata": {},
     "output_type": "execute_result"
    }
   ],
   "source": [
    "df[df.headway > 0]"
   ]
  },
  {
   "cell_type": "code",
   "execution_count": 37,
   "metadata": {},
   "outputs": [
    {
     "data": {
      "text/plain": [
       "<matplotlib.axes._subplots.AxesSubplot at 0x7fe59659dbb0>"
      ]
     },
     "execution_count": 37,
     "metadata": {},
     "output_type": "execute_result"
    },
    {
     "data": {
      "image/png": "[encoded data removed]",
      "text/plain": [
       "<Figure size 648x576 with 2 Axes>"
      ]
     },
     "metadata": {
      "needs_background": "light"
     },
     "output_type": "display_data"
    }
   ],
   "source": [
    "corrmat = df[df.headway > 0].corr() \n",
    "  \n",
    "f, ax = plt.subplots(figsize =(9, 8)) \n",
    "sns.heatmap(corrmat, ax = ax, cmap =\"YlGnBu\", linewidths = 0.1,annot=True) "
   ]
  },
  {
   "cell_type": "code",
   "execution_count": 115,
   "metadata": {},
   "outputs": [],
   "source": [
    "df = new_df.join(train_updates, how=\"left\").fillna(0)\n",
    "df = df.drop(df.columns.difference(['entry', 'exit','headway', 'weather_main', 'num_train_running']), axis=1)"
   ]
  },
  {
   "cell_type": "code",
   "execution_count": 116,
   "metadata": {},
   "outputs": [],
   "source": [
    "df = df[df.headway > 0]"
   ]
  },
  {
   "cell_type": "code",
   "execution_count": 117,
   "metadata": {},
   "outputs": [
    {
     "data": {
      "text/html": [
       "<div>\n",
       "<style scoped>\n",
       "    .dataframe tbody tr th:only-of-type {\n",
       "        vertical-align: middle;\n",
       "    }\n",
       "\n",
       "    .dataframe tbody tr th {\n",
       "        vertical-align: top;\n",
       "    }\n",
       "\n",
       "    .dataframe thead th {\n",
       "        text-align: right;\n",
       "    }\n",
       "</style>\n",
       "<table border=\"1\" class=\"dataframe\">\n",
       "  <thead>\n",
       "    <tr style=\"text-align: right;\">\n",
       "      <th></th>\n",
       "      <th>entry</th>\n",
       "      <th>exit</th>\n",
       "      <th>weather_main</th>\n",
       "      <th>num_train_running</th>\n",
       "      <th>headway</th>\n",
       "    </tr>\n",
       "    <tr>\n",
       "      <th>datetime</th>\n",
       "      <th></th>\n",
       "      <th></th>\n",
       "      <th></th>\n",
       "      <th></th>\n",
       "      <th></th>\n",
       "    </tr>\n",
       "  </thead>\n",
       "  <tbody>\n",
       "    <tr>\n",
       "      <th>2018-07-01 19:00:00</th>\n",
       "      <td>1865.0</td>\n",
       "      <td>3379.0</td>\n",
       "      <td>Haze</td>\n",
       "      <td>12.0</td>\n",
       "      <td>8.5</td>\n",
       "    </tr>\n",
       "    <tr>\n",
       "      <th>2018-07-02 05:00:00</th>\n",
       "      <td>1254.0</td>\n",
       "      <td>108.0</td>\n",
       "      <td>Haze</td>\n",
       "      <td>8.0</td>\n",
       "      <td>8.0</td>\n",
       "    </tr>\n",
       "    <tr>\n",
       "      <th>2018-07-02 18:00:00</th>\n",
       "      <td>2180.0</td>\n",
       "      <td>3415.0</td>\n",
       "      <td>Haze</td>\n",
       "      <td>15.0</td>\n",
       "      <td>7.0</td>\n",
       "    </tr>\n",
       "    <tr>\n",
       "      <th>2018-07-03 05:00:00</th>\n",
       "      <td>1255.0</td>\n",
       "      <td>172.0</td>\n",
       "      <td>Haze</td>\n",
       "      <td>7.0</td>\n",
       "      <td>8.0</td>\n",
       "    </tr>\n",
       "    <tr>\n",
       "      <th>2018-07-03 20:00:00</th>\n",
       "      <td>1502.0</td>\n",
       "      <td>2471.0</td>\n",
       "      <td>Haze</td>\n",
       "      <td>14.0</td>\n",
       "      <td>7.5</td>\n",
       "    </tr>\n",
       "  </tbody>\n",
       "</table>\n",
       "</div>"
      ],
      "text/plain": [
       "                      entry    exit weather_main  num_train_running  headway\n",
       "datetime                                                                    \n",
       "2018-07-01 19:00:00  1865.0  3379.0         Haze               12.0      8.5\n",
       "2018-07-02 05:00:00  1254.0   108.0         Haze                8.0      8.0\n",
       "2018-07-02 18:00:00  2180.0  3415.0         Haze               15.0      7.0\n",
       "2018-07-03 05:00:00  1255.0   172.0         Haze                7.0      8.0\n",
       "2018-07-03 20:00:00  1502.0  2471.0         Haze               14.0      7.5"
      ]
     },
     "execution_count": 117,
     "metadata": {},
     "output_type": "execute_result"
    }
   ],
   "source": [
    "df.head()"
   ]
  },
  {
   "cell_type": "code",
   "execution_count": 118,
   "metadata": {},
   "outputs": [],
   "source": [
    "weather_df = pd.get_dummies(df, columns=[\"weather_main\"])"
   ]
  },
  {
   "cell_type": "code",
   "execution_count": 143,
   "metadata": {},
   "outputs": [
    {
     "data": {
      "text/plain": [
       "<matplotlib.axes._subplots.AxesSubplot at 0x7fe59a6cd370>"
      ]
     },
     "execution_count": 143,
     "metadata": {},
     "output_type": "execute_result"
    },
    {
     "data": {
      "image/png": "[encoded data removed]",
      "text/plain": [
       "<Figure size 648x576 with 2 Axes>"
      ]
     },
     "metadata": {
      "needs_background": "light"
     },
     "output_type": "display_data"
    }
   ],
   "source": [
    "corrmat = weather_df[['entry', 'exit', 'num_train_running', 'headway']].corr() \n",
    "  \n",
    "f, ax = plt.subplots(figsize =(9, 8)) \n",
    "sns.heatmap(corrmat, ax = ax, cmap =\"YlGnBu\", linewidths = 0.1,annot=True) "
   ]
  },
  {
   "cell_type": "code",
   "execution_count": 120,
   "metadata": {},
   "outputs": [],
   "source": [
    "train, test = train_test_split(weather_df,test_size=0.30, random_state=123)"
   ]
  },
  {
   "cell_type": "code",
   "execution_count": 121,
   "metadata": {},
   "outputs": [],
   "source": [
    "train.reset_index(drop=True, inplace=True)"
   ]
  },
  {
   "cell_type": "code",
   "execution_count": 122,
   "metadata": {},
   "outputs": [],
   "source": [
    "test.reset_index(drop=True, inplace=True)"
   ]
  },
  {
   "cell_type": "code",
   "execution_count": 123,
   "metadata": {},
   "outputs": [
    {
     "data": {
      "text/html": [
       "<div>\n",
       "<style scoped>\n",
       "    .dataframe tbody tr th:only-of-type {\n",
       "        vertical-align: middle;\n",
       "    }\n",
       "\n",
       "    .dataframe tbody tr th {\n",
       "        vertical-align: top;\n",
       "    }\n",
       "\n",
       "    .dataframe thead th {\n",
       "        text-align: right;\n",
       "    }\n",
       "</style>\n",
       "<table border=\"1\" class=\"dataframe\">\n",
       "  <thead>\n",
       "    <tr style=\"text-align: right;\">\n",
       "      <th></th>\n",
       "      <th>entry</th>\n",
       "      <th>exit</th>\n",
       "      <th>num_train_running</th>\n",
       "      <th>headway</th>\n",
       "      <th>weather_main_Clouds</th>\n",
       "      <th>weather_main_Haze</th>\n",
       "      <th>weather_main_Rain</th>\n",
       "      <th>weather_main_Smoke</th>\n",
       "      <th>weather_main_Thunderstorm</th>\n",
       "    </tr>\n",
       "  </thead>\n",
       "  <tbody>\n",
       "    <tr>\n",
       "      <th>0</th>\n",
       "      <td>1303.0</td>\n",
       "      <td>1064.0</td>\n",
       "      <td>15.0</td>\n",
       "      <td>7.0</td>\n",
       "      <td>0</td>\n",
       "      <td>1</td>\n",
       "      <td>0</td>\n",
       "      <td>0</td>\n",
       "      <td>0</td>\n",
       "    </tr>\n",
       "    <tr>\n",
       "      <th>1</th>\n",
       "      <td>1427.0</td>\n",
       "      <td>1801.0</td>\n",
       "      <td>13.0</td>\n",
       "      <td>8.0</td>\n",
       "      <td>0</td>\n",
       "      <td>0</td>\n",
       "      <td>1</td>\n",
       "      <td>0</td>\n",
       "      <td>0</td>\n",
       "    </tr>\n",
       "    <tr>\n",
       "      <th>2</th>\n",
       "      <td>1280.0</td>\n",
       "      <td>1079.0</td>\n",
       "      <td>15.0</td>\n",
       "      <td>7.0</td>\n",
       "      <td>0</td>\n",
       "      <td>1</td>\n",
       "      <td>0</td>\n",
       "      <td>0</td>\n",
       "      <td>0</td>\n",
       "    </tr>\n",
       "    <tr>\n",
       "      <th>3</th>\n",
       "      <td>695.0</td>\n",
       "      <td>885.0</td>\n",
       "      <td>11.0</td>\n",
       "      <td>8.5</td>\n",
       "      <td>1</td>\n",
       "      <td>0</td>\n",
       "      <td>0</td>\n",
       "      <td>0</td>\n",
       "      <td>0</td>\n",
       "    </tr>\n",
       "    <tr>\n",
       "      <th>4</th>\n",
       "      <td>2074.0</td>\n",
       "      <td>4626.0</td>\n",
       "      <td>15.0</td>\n",
       "      <td>7.0</td>\n",
       "      <td>0</td>\n",
       "      <td>1</td>\n",
       "      <td>0</td>\n",
       "      <td>0</td>\n",
       "      <td>0</td>\n",
       "    </tr>\n",
       "  </tbody>\n",
       "</table>\n",
       "</div>"
      ],
      "text/plain": [
       "    entry    exit  num_train_running  headway  weather_main_Clouds  \\\n",
       "0  1303.0  1064.0               15.0      7.0                    0   \n",
       "1  1427.0  1801.0               13.0      8.0                    0   \n",
       "2  1280.0  1079.0               15.0      7.0                    0   \n",
       "3   695.0   885.0               11.0      8.5                    1   \n",
       "4  2074.0  4626.0               15.0      7.0                    0   \n",
       "\n",
       "   weather_main_Haze  weather_main_Rain  weather_main_Smoke  \\\n",
       "0                  1                  0                   0   \n",
       "1                  0                  1                   0   \n",
       "2                  1                  0                   0   \n",
       "3                  0                  0                   0   \n",
       "4                  1                  0                   0   \n",
       "\n",
       "   weather_main_Thunderstorm  \n",
       "0                          0  \n",
       "1                          0  \n",
       "2                          0  \n",
       "3                          0  \n",
       "4                          0  "
      ]
     },
     "execution_count": 123,
     "metadata": {},
     "output_type": "execute_result"
    }
   ],
   "source": [
    "train.head()"
   ]
  },
  {
   "cell_type": "code",
   "execution_count": 124,
   "metadata": {},
   "outputs": [],
   "source": [
    "# x_train = train.drop('headway', axis=1)\n",
    "x_train = train[['entry', 'exit']]\n",
    "y_train = train['num_train_running']"
   ]
  },
  {
   "cell_type": "code",
   "execution_count": 125,
   "metadata": {},
   "outputs": [],
   "source": [
    "# x_test = test.drop('headway', axis=1)\n",
    "x_test = test[['entry', 'exit']]\n",
    "y_test = test['num_train_running']"
   ]
  },
  {
   "cell_type": "code",
   "execution_count": 134,
   "metadata": {},
   "outputs": [],
   "source": [
    "scaler = Normalizer()\n",
    "\n",
    "scaled_x_train = scaler.fit_transform(x_train)"
   ]
  },
  {
   "cell_type": "code",
   "execution_count": 135,
   "metadata": {},
   "outputs": [],
   "source": [
    "linreg = linear_model.LinearRegression()"
   ]
  },
  {
   "cell_type": "code",
   "execution_count": 136,
   "metadata": {},
   "outputs": [
    {
     "data": {
      "text/plain": [
       "LinearRegression()"
      ]
     },
     "execution_count": 136,
     "metadata": {},
     "output_type": "execute_result"
    }
   ],
   "source": [
    "linreg.fit(scaled_x_train, y_train)"
   ]
  },
  {
   "cell_type": "code",
   "execution_count": 137,
   "metadata": {},
   "outputs": [],
   "source": [
    "scaled_x_test = scaler.transform(x_test)"
   ]
  },
  {
   "cell_type": "code",
   "execution_count": 138,
   "metadata": {},
   "outputs": [],
   "source": [
    "y_pred = linreg.predict(scaled_x_test)"
   ]
  },
  {
   "cell_type": "code",
   "execution_count": 139,
   "metadata": {},
   "outputs": [
    {
     "name": "stdout",
     "output_type": "stream",
     "text": [
      "r2: 30.66\n",
      "mae: 1.50\n",
      "mse: 4.22\n",
      "rmse: 2.06\n"
     ]
    }
   ],
   "source": [
    "#Measure the performance of the model\n",
    "r2 = r2_score(y_test, y_pred) * 100\n",
    "mae = mean_absolute_error(y_test, y_pred)\n",
    "mse = mean_squared_error(y_test, y_pred) \n",
    "rmse = np.sqrt(mean_squared_error(y_test, y_pred))\n",
    "\n",
    "print((\"r2: %.2f\") %r2)\n",
    "print((\"mae: %.2f\") %mae)\n",
    "print((\"mse: %.2f\") %mse)\n",
    "print((\"rmse: %.2f\") %rmse)"
   ]
  },
  {
   "cell_type": "code",
   "execution_count": 146,
   "metadata": {},
   "outputs": [
    {
     "name": "stdout",
     "output_type": "stream",
     "text": [
      "12.0\n",
      "13.99363357280959\n"
     ]
    }
   ],
   "source": [
    "print(y_test[1])\n",
    "print(y_pred[1])"
   ]
  },
  {
   "cell_type": "code",
   "execution_count": 140,
   "metadata": {},
   "outputs": [
    {
     "data": {
      "text/plain": [
       "Text(0.5, 1.0, 'Actual Sales vs Predicted Sales')"
      ]
     },
     "execution_count": 140,
     "metadata": {},
     "output_type": "execute_result"
    },
    {
     "data": {
      "image/png": "[encoded data removed]",
      "text/plain": [
       "<Figure size 792x648 with 1 Axes>"
      ]
     },
     "metadata": {
      "needs_background": "light"
     },
     "output_type": "display_data"
    }
   ],
   "source": [
    "#Visualize the results\n",
    "\n",
    "#Figure Size\n",
    "f, ax = plt.subplots(figsize=(11, 9))\n",
    "\n",
    "#Function for Scatter Plot\n",
    "plt.scatter(y_test, y_pred)\n",
    "\n",
    "#Labels\n",
    "plt.xlabel(\"Actual Sales\")\n",
    "plt.ylabel(\"Predicted Sales\")\n",
    "plt.title(\"Actual Sales vs Predicted Sales\")"
   ]
  },
  {
   "cell_type": "code",
   "execution_count": 114,
   "metadata": {},
   "outputs": [
    {
     "data": {
      "text/plain": [
       "(712, 8)"
      ]
     },
     "execution_count": 114,
     "metadata": {},
     "output_type": "execute_result"
    }
   ],
   "source": [
    "weather_df.shape"
   ]
  },
  {
   "cell_type": "code",
   "execution_count": null,
   "metadata": {},
   "outputs": [],
   "source": []
  }
 ],
 "metadata": {
  "kernelspec": {
   "display_name": "Python 3",
   "language": "python",
   "name": "python3"
  },
  "language_info": {
   "codemirror_mode": {
    "name": "ipython",
    "version": 3
   },
   "file_extension": ".py",
   "mimetype": "text/x-python",
   "name": "python",
   "nbconvert_exporter": "python",
   "pygments_lexer": "ipython3",
   "version": "3.8.3"
  }
 },
 "nbformat": 4,
 "nbformat_minor": 4
}
