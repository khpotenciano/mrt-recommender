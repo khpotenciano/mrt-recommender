{
 "cells": [
  {
   "cell_type": "markdown",
   "metadata": {},
   "source": [
    "### Import Libraries and Dependencies"
   ]
  },
  {
   "cell_type": "code",
   "execution_count": 2,
   "metadata": {},
   "outputs": [],
   "source": [
    "import import_files as MrtRecommendationDependencies\n",
    "import database\n",
    "from twitter_scraper import TwitterScraper"
   ]
  },
  {
   "cell_type": "markdown",
   "metadata": {},
   "source": [
    "### Instantiate Scraper Object"
   ]
  },
  {
   "cell_type": "code",
   "execution_count": 8,
   "metadata": {},
   "outputs": [],
   "source": [
    "scraper = TwitterScraper(\"2019-06-01\", \"2019-07-01\",headless=True)"
   ]
  },
  {
   "cell_type": "markdown",
   "metadata": {},
   "source": [
    "### Set Twitter Credentials and Log in "
   ]
  },
  {
   "cell_type": "code",
   "execution_count": 9,
   "metadata": {},
   "outputs": [],
   "source": [
    "scraper.set_twitter_login(\"bekekerlyen\", \"BaekSoo!1204\")\n",
    "scraper.login_to_twitter()"
   ]
  },
  {
   "cell_type": "markdown",
   "metadata": {},
   "source": [
    "### Set Account to Search"
   ]
  },
  {
   "cell_type": "code",
   "execution_count": 10,
   "metadata": {},
   "outputs": [],
   "source": [
    "scraper.set_account_search(\"dotrmrt3\")\n",
    "scraper.set_term_search(\"(MRT-3 update) OR (MRT3 update)\")"
   ]
  },
  {
   "cell_type": "markdown",
   "metadata": {},
   "source": [
    "### Start Saving Links"
   ]
  },
  {
   "cell_type": "code",
   "execution_count": null,
   "metadata": {},
   "outputs": [
    {
     "name": "stdout",
     "output_type": "stream",
     "text": [
      "2019-06-01 to 2019-06-02 STARTED\n",
      "Duplicate link https://twitter.com/dotrmrt3/status/1134611920353280000\n",
      "Duplicate link https://twitter.com/dotrmrt3/status/1134656653205299200\n",
      "2019-06-01 to 2019-06-02 DONE\n",
      "2019-06-02 to 2019-06-03 STARTED\n",
      "Duplicate link https://twitter.com/dotrmrt3/status/1134991958219223041\n",
      "Duplicate link https://twitter.com/dotrmrt3/status/1135035794576461824\n",
      "2019-06-02 to 2019-06-03 DONE\n",
      "2019-06-03 to 2019-06-04 STARTED\n",
      "2019-06-03 to 2019-06-04 DONE\n",
      "2019-06-04 to 2019-06-05 STARTED\n",
      "2019-06-04 to 2019-06-05 DONE\n",
      "2019-06-05 to 2019-06-06 STARTED\n",
      "Duplicate link https://twitter.com/dotrmrt3/status/1136066426802806785\n",
      "Duplicate link https://twitter.com/dotrmrt3/status/1136400057735888896\n",
      "Duplicate link https://twitter.com/dotrmrt3/status/1136400057735888896\n",
      "Duplicate link https://twitter.com/dotrmrt3/status/1136090920846331910\n",
      "Duplicate link https://twitter.com/dotrmrt3/status/1136123297127489536\n",
      "2019-06-05 to 2019-06-06 DONE\n",
      "2019-06-06 to 2019-06-07 STARTED\n",
      "2019-06-06 to 2019-06-07 DONE\n",
      "2019-06-07 to 2019-06-08 STARTED\n",
      "Duplicate link https://twitter.com/dotrmrt3/status/1136950186800844801\n",
      "Duplicate link https://twitter.com/dotrmrt3/status/1136967121877884928\n",
      "Duplicate link https://twitter.com/dotrmrt3/status/1136967121877884928\n",
      "Duplicate link https://twitter.com/dotrmrt3/status/1136960283841187840\n",
      "Duplicate link https://twitter.com/dotrmrt3/status/1136816957087526912\n",
      "2019-06-07 to 2019-06-08 DONE\n",
      "2019-06-08 to 2019-06-09 STARTED\n",
      "Duplicate link https://twitter.com/dotrmrt3/status/1137148473654931456\n",
      "Duplicate link https://twitter.com/dotrmrt3/status/1137499793280851968\n",
      "2019-06-08 to 2019-06-09 DONE\n",
      "2019-06-09 to 2019-06-10 STARTED\n",
      "Duplicate link https://twitter.com/dotrmrt3/status/1137860807960567809\n",
      "Duplicate link https://twitter.com/dotrmrt3/status/1137572385563877376\n",
      "Duplicate link https://twitter.com/dotrmrt3/status/1137572385563877376\n",
      "Duplicate link https://twitter.com/dotrmrt3/status/1137557363454431233\n",
      "Duplicate link https://twitter.com/dotrmrt3/status/1137540479875084288\n",
      "2019-06-09 to 2019-06-10 DONE\n",
      "2019-06-10 to 2019-06-11 STARTED\n",
      "Duplicate link https://twitter.com/dotrmrt3/status/1138206345713242113\n",
      "Duplicate link https://twitter.com/dotrmrt3/status/1138222654605807616\n",
      "2019-06-10 to 2019-06-11 DONE\n",
      "2019-06-11 to 2019-06-12 STARTED\n",
      "Duplicate link https://twitter.com/dotrmrt3/status/1138235232845361152\n",
      "Duplicate link https://twitter.com/dotrmrt3/status/1138394223424622593\n",
      "2019-06-11 to 2019-06-12 DONE\n",
      "2019-06-12 to 2019-06-13 STARTED\n",
      "Duplicate link https://twitter.com/dotrmrt3/status/1138948992371347456\n",
      "Duplicate link https://twitter.com/dotrmrt3/status/1138631048235905024\n",
      "Duplicate link https://twitter.com/dotrmrt3/status/1138631048235905024\n",
      "Duplicate link https://twitter.com/dotrmrt3/status/1138684147587735552\n",
      "Duplicate link https://twitter.com/dotrmrt3/status/1138645917878198272\n",
      "2019-06-12 to 2019-06-13 DONE\n",
      "2019-06-13 to 2019-06-14 STARTED\n",
      "Duplicate link https://twitter.com/dotrmrt3/status/1139125987164037121\n",
      "Duplicate link https://twitter.com/dotrmrt3/status/1139308387928199168\n",
      "2019-06-13 to 2019-06-14 DONE\n",
      "2019-06-14 to 2019-06-15 STARTED\n",
      "Duplicate link https://twitter.com/dotrmrt3/status/1139502830887194624\n",
      "Duplicate link https://twitter.com/dotrmrt3/status/1139420102888083456\n",
      "Duplicate link https://twitter.com/dotrmrt3/status/1139420102888083456\n",
      "Duplicate link https://twitter.com/dotrmrt3/status/1139489411589005313\n",
      "Duplicate link https://twitter.com/dotrmrt3/status/1139425168642596864\n",
      "2019-06-14 to 2019-06-15 DONE\n",
      "2019-06-15 to 2019-06-16 STARTED\n",
      "Duplicate link https://twitter.com/dotrmrt3/status/1139768848867979264\n",
      "Duplicate link https://twitter.com/dotrmrt3/status/1140016422820519936\n",
      "2019-06-15 to 2019-06-16 DONE\n",
      "2019-06-16 to 2019-06-17 STARTED\n",
      "Duplicate link https://twitter.com/dotrmrt3/status/1140123158231392256\n",
      "Duplicate link https://twitter.com/dotrmrt3/status/1140108759441657856\n",
      "2019-06-16 to 2019-06-17 DONE\n",
      "2019-06-17 to 2019-06-18 STARTED\n",
      "2019-06-17 to 2019-06-18 DONE\n",
      "2019-06-18 to 2019-06-19 STARTED\n",
      "Duplicate link https://twitter.com/dotrmrt3/status/1140953710899499008\n",
      "Duplicate link https://twitter.com/dotrmrt3/status/1140818057809420289\n",
      "2019-06-18 to 2019-06-19 DONE\n",
      "2019-06-19 to 2019-06-20 STARTED\n",
      "Duplicate link https://twitter.com/dotrmrt3/status/1141294235431292929\n",
      "Duplicate link https://twitter.com/dotrmrt3/status/1141316515611811840\n",
      "2019-06-19 to 2019-06-20 DONE\n",
      "2019-06-20 to 2019-06-21 STARTED\n",
      "Duplicate link https://twitter.com/dotrmrt3/status/1141512889997701120\n",
      "Duplicate link https://twitter.com/dotrmrt3/status/1141547368828944384\n",
      "2019-06-20 to 2019-06-21 DONE\n",
      "2019-06-21 to 2019-06-22 STARTED\n",
      "Duplicate link https://twitter.com/dotrmrt3/status/1142009573860970496\n",
      "Duplicate link https://twitter.com/dotrmrt3/status/1141889306849619970\n",
      "Duplicate link https://twitter.com/dotrmrt3/status/1141889306849619970\n",
      "Duplicate link https://twitter.com/dotrmrt3/status/1142216544690163712\n",
      "Duplicate link https://twitter.com/dotrmrt3/status/1142049745537343488\n",
      "2019-06-21 to 2019-06-22 DONE\n",
      "2019-06-22 to 2019-06-23 STARTED\n",
      "Duplicate link https://twitter.com/dotrmrt3/status/1142403507053424640\n",
      "Duplicate link https://twitter.com/dotrmrt3/status/1142287497885433856\n",
      "2019-06-22 to 2019-06-23 DONE\n",
      "2019-06-23 to 2019-06-24 STARTED\n",
      "Duplicate link https://twitter.com/dotrmrt3/status/1142705018979491840\n",
      "Duplicate link https://twitter.com/dotrmrt3/status/1142934145166766082\n",
      "Duplicate link https://twitter.com/dotrmrt3/status/1142934145166766082\n",
      "Duplicate link https://twitter.com/dotrmrt3/status/1142917004363354112\n",
      "Duplicate link https://twitter.com/dotrmrt3/status/1142629982344060928\n",
      "2019-06-23 to 2019-06-24 DONE\n",
      "2019-06-24 to 2019-06-25 STARTED\n",
      "Duplicate link https://twitter.com/dotrmrt3/status/1142955282558943232\n",
      "Duplicate link https://twitter.com/dotrmrt3/status/1143068620559273984\n",
      "Duplicate link https://twitter.com/dotrmrt3/status/1143068620559273984\n",
      "Duplicate link https://twitter.com/dotrmrt3/status/1143271990091894784\n",
      "Duplicate link https://twitter.com/dotrmrt3/status/1143010853500805121\n",
      "2019-06-24 to 2019-06-25 DONE\n",
      "2019-06-25 to 2019-06-26 STARTED\n",
      "Duplicate link https://twitter.com/dotrmrt3/status/1143429952894717952\n",
      "Duplicate link https://twitter.com/dotrmrt3/status/1143648803813122048\n",
      "Duplicate link https://twitter.com/dotrmrt3/status/1143648803813122048\n",
      "Duplicate link https://twitter.com/dotrmrt3/status/1143368942443888640\n",
      "Duplicate link https://twitter.com/dotrmrt3/status/1143355294568734720\n",
      "2019-06-25 to 2019-06-26 DONE\n",
      "2019-06-26 to 2019-06-27 STARTED\n",
      "Duplicate link https://twitter.com/dotrmrt3/status/1143806591008833542\n",
      "Duplicate link https://twitter.com/dotrmrt3/status/1143731511889297410\n",
      "2019-06-26 to 2019-06-27 DONE\n",
      "2019-06-27 to 2019-06-28 STARTED\n",
      "Duplicate link https://twitter.com/dotrmrt3/status/1144370322642108416\n",
      "Duplicate link https://twitter.com/dotrmrt3/status/1144375177863499776\n",
      "2019-06-27 to 2019-06-28 DONE\n",
      "2019-06-28 to 2019-06-29 STARTED\n",
      "2019-06-28 to 2019-06-29 DONE\n",
      "2019-06-29 to 2019-06-30 STARTED\n"
     ]
    }
   ],
   "source": [
    "scraper.start_link_fetching()"
   ]
  },
  {
   "cell_type": "markdown",
   "metadata": {},
   "source": [
    "### Close Browser"
   ]
  },
  {
   "cell_type": "code",
   "execution_count": 7,
   "metadata": {},
   "outputs": [],
   "source": [
    "scraper.close_twitter_browser()"
   ]
  },
  {
   "cell_type": "code",
   "execution_count": null,
   "metadata": {},
   "outputs": [],
   "source": []
  }
 ],
 "metadata": {
  "kernelspec": {
   "display_name": "Python 3",
   "language": "python",
   "name": "python3"
  },
  "language_info": {
   "codemirror_mode": {
    "name": "ipython",
    "version": 3
   },
   "file_extension": ".py",
   "mimetype": "text/x-python",
   "name": "python",
   "nbconvert_exporter": "python",
   "pygments_lexer": "ipython3",
   "version": "3.8.3"
  }
 },
 "nbformat": 4,
 "nbformat_minor": 4
}
