{
 "cells": [
  {
   "cell_type": "markdown",
   "metadata": {},
   "source": [
    "### Import Libraries and Dependencies"
   ]
  },
  {
   "cell_type": "code",
   "execution_count": 1,
   "metadata": {},
   "outputs": [],
   "source": [
    "import import_files as MrtRecommendationDependencies\n",
    "import database\n",
    "from twitter_scraper import TwitterScraper"
   ]
  },
  {
   "cell_type": "markdown",
   "metadata": {},
   "source": [
    "### Instantiate Scraper Object"
   ]
  },
  {
   "cell_type": "code",
   "execution_count": 2,
   "metadata": {},
   "outputs": [],
   "source": [
    "scraper = TwitterScraper(\"2020-01-01\", \"2020-01-05\")"
   ]
  },
  {
   "cell_type": "markdown",
   "metadata": {},
   "source": [
    "### Set Twitter Credentials and Log in "
   ]
  },
  {
   "cell_type": "code",
   "execution_count": 3,
   "metadata": {},
   "outputs": [],
   "source": [
    "scraper.set_twitter_login(\"<username>\", \"<password>\")\n",
    "scraper.login_to_twitter()"
   ]
  },
  {
   "cell_type": "markdown",
   "metadata": {},
   "source": [
    "### Set Account to Search"
   ]
  },
  {
   "cell_type": "code",
   "execution_count": 4,
   "metadata": {},
   "outputs": [],
   "source": [
    "scraper.set_account_search(\"dotrmrt3\")"
   ]
  },
  {
   "cell_type": "markdown",
   "metadata": {},
   "source": [
    "### Start Saving Links"
   ]
  },
  {
   "cell_type": "code",
   "execution_count": 5,
   "metadata": {},
   "outputs": [
    {
     "name": "stdout",
     "output_type": "stream",
     "text": [
      "2020-01-01 to 2020-01-02 STARTED\n",
      "Duplicate link https://twitter.com/dotrmrt3/status/1212186343448514560\n",
      "Duplicate link https://twitter.com/dotrmrt3/status/1211527725933940737\n",
      "Duplicate link https://twitter.com/dotrmrt3/status/1211913059620360193\n",
      "Duplicate link https://twitter.com/dotrmrt3/status/1211442146718339074\n",
      "Duplicate link https://twitter.com/dotrmrt3/status/1211449892893122565\n",
      "Duplicate link https://twitter.com/dotrmrt3/status/1211893890866790401\n",
      "Duplicate link https://twitter.com/dotrmrt3/status/1211839681131794433\n",
      "Duplicate link https://twitter.com/dotrmrt3/status/1211894298557370368\n",
      "Duplicate link https://twitter.com/dotrmrt3/status/1211894220866248709\n",
      "Duplicate link https://twitter.com/dotrmrt3/status/1211814761953931269\n",
      "Duplicate link https://twitter.com/dotrmrt3/status/1212206894053412864\n",
      "Duplicate link https://twitter.com/dotrmrt3/status/1211894298557370368\n",
      "Duplicate link https://twitter.com/dotrmrt3/status/1211894220866248709\n",
      "Duplicate link https://twitter.com/dotrmrt3/status/1211814761953931269\n",
      "Duplicate link https://twitter.com/dotrmrt3/status/1212206894053412864\n",
      "Duplicate link https://twitter.com/dotrmrt3/status/1211498131671539713\n",
      "Duplicate link https://twitter.com/dotrmrt3/status/1212138093861457920\n",
      "Duplicate link https://twitter.com/dotrmrt3/status/1211498131671539713\n",
      "Duplicate link https://twitter.com/dotrmrt3/status/1212138093861457920\n",
      "Duplicate link https://twitter.com/dotrmrt3/status/1212223783630561282\n",
      "Duplicate link https://twitter.com/dotrmrt3/status/1211269601134166018\n",
      "Duplicate link https://twitter.com/dotrmrt3/status/1212223783630561282\n",
      "Duplicate link https://twitter.com/dotrmrt3/status/1211269601134166018\n",
      "2020-01-01 to 2020-01-02 DONE\n",
      "2020-01-02 to 2020-01-03 STARTED\n",
      "Duplicate link https://twitter.com/dotrmrt3/status/1212186343448514560\n",
      "Duplicate link https://twitter.com/dotrmrt3/status/1211527725933940737\n",
      "Duplicate link https://twitter.com/dotrmrt3/status/1211913059620360193\n",
      "Duplicate link https://twitter.com/dotrmrt3/status/1212044597842415619\n",
      "Duplicate link https://twitter.com/dotrmrt3/status/1211894333395238913\n",
      "Duplicate link https://twitter.com/dotrmrt3/status/1211893890866790401\n",
      "Duplicate link https://twitter.com/dotrmrt3/status/1211839681131794433\n",
      "Duplicate link https://twitter.com/dotrmrt3/status/1211894298557370368\n",
      "Duplicate link https://twitter.com/dotrmrt3/status/1211894220866248709\n",
      "Duplicate link https://twitter.com/dotrmrt3/status/1211814761953931269\n",
      "Duplicate link https://twitter.com/dotrmrt3/status/1212585529444728834\n",
      "Duplicate link https://twitter.com/dotrmrt3/status/1211894298557370368\n",
      "Duplicate link https://twitter.com/dotrmrt3/status/1211894220866248709\n",
      "Duplicate link https://twitter.com/dotrmrt3/status/1211814761953931269\n",
      "Duplicate link https://twitter.com/dotrmrt3/status/1212585529444728834\n",
      "Duplicate link https://twitter.com/dotrmrt3/status/1212206894053412864\n",
      "Duplicate link https://twitter.com/dotrmrt3/status/1211498131671539713\n",
      "Duplicate link https://twitter.com/dotrmrt3/status/1211498131671539713\n",
      "Duplicate link https://twitter.com/dotrmrt3/status/1212138093861457920\n",
      "Duplicate link https://twitter.com/dotrmrt3/status/1212850473264267264\n",
      "Duplicate link https://twitter.com/dotrmrt3/status/1212864281252728832\n",
      "Duplicate link https://twitter.com/dotrmrt3/status/1212850473264267264\n",
      "Duplicate link https://twitter.com/dotrmrt3/status/1212864281252728832\n",
      "Duplicate link https://twitter.com/dotrmrt3/status/1212571965854117888\n",
      "Duplicate link https://twitter.com/dotrmrt3/status/1212864281252728832\n",
      "Duplicate link https://twitter.com/dotrmrt3/status/1212571965854117888\n",
      "2020-01-02 to 2020-01-03 DONE\n",
      "2020-01-03 to 2020-01-04 STARTED\n",
      "Duplicate link https://twitter.com/dotrmrt3/status/1212186343448514560\n",
      "Duplicate link https://twitter.com/dotrmrt3/status/1211913059620360193\n",
      "Duplicate link https://twitter.com/dotrmrt3/status/1212153560823029761\n",
      "Duplicate link https://twitter.com/dotrmrt3/status/1212044597842415619\n",
      "Duplicate link https://twitter.com/dotrmrt3/status/1212044597842415619\n",
      "Duplicate link https://twitter.com/dotrmrt3/status/1211894333395238913\n",
      "Duplicate link https://twitter.com/dotrmrt3/status/1211893890866790401\n",
      "Duplicate link https://twitter.com/dotrmrt3/status/1211839681131794433\n",
      "Duplicate link https://twitter.com/dotrmrt3/status/1211894298557370368\n",
      "Duplicate link https://twitter.com/dotrmrt3/status/1211894220866248709\n",
      "2020-01-03 to 2020-01-04 DONE\n",
      "2020-01-04 to 2020-01-05 STARTED\n",
      "Duplicate link https://twitter.com/dotrmrt3/status/1212186343448514560\n",
      "Duplicate link https://twitter.com/dotrmrt3/status/1212153560823029761\n",
      "Duplicate link https://twitter.com/dotrmrt3/status/1213407320568283136\n",
      "Duplicate link https://twitter.com/dotrmrt3/status/1212186343448514560\n",
      "Duplicate link https://twitter.com/dotrmrt3/status/1212153560823029761\n",
      "Duplicate link https://twitter.com/dotrmrt3/status/1213407320568283136\n",
      "Duplicate link https://twitter.com/dotrmrt3/status/1212585529444728834\n",
      "Duplicate link https://twitter.com/dotrmrt3/status/1212206894053412864\n",
      "Duplicate link https://twitter.com/dotrmrt3/status/1212585529444728834\n",
      "Duplicate link https://twitter.com/dotrmrt3/status/1212206894053412864\n",
      "Duplicate link https://twitter.com/dotrmrt3/status/1212850473264267264\n",
      "Duplicate link https://twitter.com/dotrmrt3/status/1212138093861457920\n",
      "2020-01-04 to 2020-01-05 DONE\n"
     ]
    }
   ],
   "source": [
    "scraper.start_link_fetching()"
   ]
  },
  {
   "cell_type": "markdown",
   "metadata": {},
   "source": [
    "### Close Browser"
   ]
  },
  {
   "cell_type": "code",
   "execution_count": 6,
   "metadata": {},
   "outputs": [],
   "source": [
    "scraper.close_twitter_browser()"
   ]
  }
 ],
 "metadata": {
  "kernelspec": {
   "display_name": "Python 3",
   "language": "python",
   "name": "python3"
  },
  "language_info": {
   "codemirror_mode": {
    "name": "ipython",
    "version": 3
   },
   "file_extension": ".py",
   "mimetype": "text/x-python",
   "name": "python",
   "nbconvert_exporter": "python",
   "pygments_lexer": "ipython3",
   "version": "3.8.3"
  }
 },
 "nbformat": 4,
 "nbformat_minor": 4
}
