{
 "cells": [
  {
   "cell_type": "markdown",
   "metadata": {},
   "source": [
    "### Import Libraries and Dependencies"
   ]
  },
  {
   "cell_type": "code",
   "execution_count": 1,
   "metadata": {},
   "outputs": [],
   "source": [
    "import import_files as MrtRecommendationDependencies\n",
    "import database\n",
    "from twitter_scraper import TwitterScraper"
   ]
  },
  {
   "cell_type": "markdown",
   "metadata": {},
   "source": [
    "### Instantiate Scraper Object"
   ]
  },
  {
   "cell_type": "code",
   "execution_count": 42,
   "metadata": {},
   "outputs": [],
   "source": [
    "scraper = TwitterScraper(\"2019-04-01\", \"2019-05-01\")"
   ]
  },
  {
   "cell_type": "markdown",
   "metadata": {},
   "source": [
    "### Set Twitter Credentials and Log in "
   ]
  },
  {
   "cell_type": "code",
   "execution_count": 43,
   "metadata": {},
   "outputs": [],
   "source": [
    "scraper.set_twitter_login(\"bekekerlyen\", \"BaekSoo!1204\")\n",
    "scraper.login_to_twitter()"
   ]
  },
  {
   "cell_type": "markdown",
   "metadata": {},
   "source": [
    "### Set Account to Search"
   ]
  },
  {
   "cell_type": "code",
   "execution_count": 44,
   "metadata": {},
   "outputs": [],
   "source": [
    "scraper.set_account_search(\"dotrmrt3\")\n",
    "scraper.set_term_search(\"(MRT-3 update) OR (MRT3 update)\")"
   ]
  },
  {
   "cell_type": "markdown",
   "metadata": {},
   "source": [
    "### Start Saving Links"
   ]
  },
  {
   "cell_type": "code",
   "execution_count": 45,
   "metadata": {},
   "outputs": [
    {
     "name": "stdout",
     "output_type": "stream",
     "text": [
      "2019-04-01 to 2019-04-02 STARTED\n",
      "2019-04-01 to 2019-04-02 DONE\n",
      "2019-04-02 to 2019-04-03 STARTED\n",
      "2019-04-02 to 2019-04-03 DONE\n",
      "2019-04-03 to 2019-04-04 STARTED\n",
      "2019-04-03 to 2019-04-04 DONE\n",
      "2019-04-04 to 2019-04-05 STARTED\n",
      "2019-04-04 to 2019-04-05 DONE\n",
      "2019-04-05 to 2019-04-06 STARTED\n",
      "2019-04-05 to 2019-04-06 DONE\n",
      "2019-04-06 to 2019-04-07 STARTED\n",
      "2019-04-06 to 2019-04-07 DONE\n",
      "2019-04-07 to 2019-04-08 STARTED\n",
      "2019-04-07 to 2019-04-08 DONE\n",
      "2019-04-08 to 2019-04-09 STARTED\n",
      "2019-04-08 to 2019-04-09 DONE\n",
      "2019-04-09 to 2019-04-10 STARTED\n",
      "2019-04-09 to 2019-04-10 DONE\n",
      "2019-04-10 to 2019-04-11 STARTED\n",
      "2019-04-10 to 2019-04-11 DONE\n",
      "2019-04-11 to 2019-04-12 STARTED\n",
      "2019-04-11 to 2019-04-12 DONE\n",
      "2019-04-12 to 2019-04-13 STARTED\n",
      "2019-04-12 to 2019-04-13 DONE\n",
      "2019-04-13 to 2019-04-14 STARTED\n",
      "2019-04-13 to 2019-04-14 DONE\n",
      "2019-04-14 to 2019-04-15 STARTED\n",
      "2019-04-14 to 2019-04-15 DONE\n",
      "2019-04-15 to 2019-04-16 STARTED\n",
      "2019-04-15 to 2019-04-16 DONE\n",
      "2019-04-16 to 2019-04-17 STARTED\n",
      "2019-04-16 to 2019-04-17 DONE\n",
      "2019-04-17 to 2019-04-18 STARTED\n",
      "2019-04-17 to 2019-04-18 DONE\n",
      "2019-04-18 to 2019-04-19 STARTED\n",
      "2019-04-18 to 2019-04-19 DONE\n",
      "2019-04-19 to 2019-04-20 STARTED\n",
      "2019-04-19 to 2019-04-20 DONE\n",
      "2019-04-20 to 2019-04-21 STARTED\n",
      "2019-04-20 to 2019-04-21 DONE\n",
      "2019-04-21 to 2019-04-22 STARTED\n",
      "2019-04-21 to 2019-04-22 DONE\n",
      "2019-04-22 to 2019-04-23 STARTED\n",
      "2019-04-22 to 2019-04-23 DONE\n",
      "2019-04-23 to 2019-04-24 STARTED\n",
      "2019-04-23 to 2019-04-24 DONE\n",
      "2019-04-24 to 2019-04-25 STARTED\n",
      "2019-04-24 to 2019-04-25 DONE\n",
      "2019-04-25 to 2019-04-26 STARTED\n",
      "2019-04-25 to 2019-04-26 DONE\n",
      "2019-04-26 to 2019-04-27 STARTED\n",
      "2019-04-26 to 2019-04-27 DONE\n",
      "2019-04-27 to 2019-04-28 STARTED\n",
      "2019-04-27 to 2019-04-28 DONE\n",
      "2019-04-28 to 2019-04-29 STARTED\n",
      "2019-04-28 to 2019-04-29 DONE\n",
      "2019-04-29 to 2019-04-30 STARTED\n",
      "2019-04-29 to 2019-04-30 DONE\n",
      "2019-04-30 to 2019-05-01 STARTED\n",
      "2019-04-30 to 2019-05-01 DONE\n"
     ]
    }
   ],
   "source": [
    "scraper.start_link_fetching()"
   ]
  },
  {
   "cell_type": "markdown",
   "metadata": {},
   "source": [
    "### Close Browser"
   ]
  },
  {
   "cell_type": "code",
   "execution_count": 46,
   "metadata": {},
   "outputs": [],
   "source": [
    "scraper.close_twitter_browser()"
   ]
  },
  {
   "cell_type": "code",
   "execution_count": null,
   "metadata": {},
   "outputs": [],
   "source": []
  }
 ],
 "metadata": {
  "kernelspec": {
   "display_name": "Python 3",
   "language": "python",
   "name": "python3"
  },
  "language_info": {
   "codemirror_mode": {
    "name": "ipython",
    "version": 3
   },
   "file_extension": ".py",
   "mimetype": "text/x-python",
   "name": "python",
   "nbconvert_exporter": "python",
   "pygments_lexer": "ipython3",
   "version": "3.8.3"
  }
 },
 "nbformat": 4,
 "nbformat_minor": 4
}
