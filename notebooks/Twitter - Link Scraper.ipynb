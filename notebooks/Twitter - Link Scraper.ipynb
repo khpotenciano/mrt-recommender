{
 "cells": [
  {
   "cell_type": "markdown",
   "metadata": {},
   "source": [
    "### Import Libraries and Dependencies"
   ]
  },
  {
   "cell_type": "code",
   "execution_count": 1,
   "metadata": {},
   "outputs": [],
   "source": [
    "import import_files as MrtRecommendationDependencies\n",
    "import database\n",
    "from twitter_scraper import TwitterScraper"
   ]
  },
  {
   "cell_type": "markdown",
   "metadata": {},
   "source": [
    "### Instantiate Scraper Object"
   ]
  },
  {
   "cell_type": "code",
   "execution_count": 22,
   "metadata": {},
   "outputs": [],
   "source": [
    "scraper = TwitterScraper(\"2019-05-31\", \"2019-06-15\")"
   ]
  },
  {
   "cell_type": "markdown",
   "metadata": {},
   "source": [
    "### Set Twitter Credentials and Log in "
   ]
  },
  {
   "cell_type": "code",
   "execution_count": 23,
   "metadata": {},
   "outputs": [],
   "source": [
    "scraper.set_twitter_login(\"<username>\", \"<password>\")\n",
    "scraper.login_to_twitter()"
   ]
  },
  {
   "cell_type": "markdown",
   "metadata": {},
   "source": [
    "### Set Account to Search"
   ]
  },
  {
   "cell_type": "code",
   "execution_count": 24,
   "metadata": {},
   "outputs": [],
   "source": [
    "scraper.set_account_search(\"dotrmrt3\")"
   ]
  },
  {
   "cell_type": "markdown",
   "metadata": {},
   "source": [
    "### Start Saving Links"
   ]
  },
  {
   "cell_type": "code",
   "execution_count": 25,
   "metadata": {},
   "outputs": [
    {
     "name": "stdout",
     "output_type": "stream",
     "text": [
      "2019-05-31 to 2019-06-01 STARTED\n",
      "2019-05-31 to 2019-06-01 DONE\n",
      "2019-06-01 to 2019-06-02 STARTED\n",
      "2019-06-01 to 2019-06-02 DONE\n",
      "2019-06-02 to 2019-06-03 STARTED\n",
      "2019-06-02 to 2019-06-03 DONE\n",
      "2019-06-03 to 2019-06-04 STARTED\n",
      "2019-06-03 to 2019-06-04 DONE\n",
      "2019-06-04 to 2019-06-05 STARTED\n",
      "2019-06-04 to 2019-06-05 DONE\n",
      "2019-06-05 to 2019-06-06 STARTED\n",
      "2019-06-05 to 2019-06-06 DONE\n",
      "2019-06-06 to 2019-06-07 STARTED\n",
      "2019-06-06 to 2019-06-07 DONE\n",
      "2019-06-07 to 2019-06-08 STARTED\n",
      "2019-06-07 to 2019-06-08 DONE\n",
      "2019-06-08 to 2019-06-09 STARTED\n",
      "2019-06-08 to 2019-06-09 DONE\n",
      "2019-06-09 to 2019-06-10 STARTED\n",
      "2019-06-09 to 2019-06-10 DONE\n",
      "2019-06-10 to 2019-06-11 STARTED\n",
      "2019-06-10 to 2019-06-11 DONE\n",
      "2019-06-11 to 2019-06-12 STARTED\n",
      "2019-06-11 to 2019-06-12 DONE\n",
      "2019-06-12 to 2019-06-13 STARTED\n",
      "2019-06-12 to 2019-06-13 DONE\n",
      "2019-06-13 to 2019-06-14 STARTED\n",
      "2019-06-13 to 2019-06-14 DONE\n",
      "2019-06-14 to 2019-06-15 STARTED\n",
      "2019-06-14 to 2019-06-15 DONE\n"
     ]
    }
   ],
   "source": [
    "scraper.start_link_fetching()"
   ]
  },
  {
   "cell_type": "markdown",
   "metadata": {},
   "source": [
    "### Close Browser"
   ]
  },
  {
   "cell_type": "code",
   "execution_count": 20,
   "metadata": {},
   "outputs": [],
   "source": [
    "scraper.close_twitter_browser()"
   ]
  },
  {
   "cell_type": "code",
   "execution_count": null,
   "metadata": {},
   "outputs": [],
   "source": []
  }
 ],
 "metadata": {
  "kernelspec": {
   "display_name": "Python 3",
   "language": "python",
   "name": "python3"
  },
  "language_info": {
   "codemirror_mode": {
    "name": "ipython",
    "version": 3
   },
   "file_extension": ".py",
   "mimetype": "text/x-python",
   "name": "python",
   "nbconvert_exporter": "python",
   "pygments_lexer": "ipython3",
   "version": "3.8.3"
  }
 },
 "nbformat": 4,
 "nbformat_minor": 4
}
