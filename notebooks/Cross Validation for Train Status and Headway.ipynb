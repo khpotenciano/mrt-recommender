{
 "cells": [
  {
   "cell_type": "code",
   "execution_count": 29,
   "metadata": {},
   "outputs": [],
   "source": [
    "import import_files as MrtRecommendationDependencies\n",
    "import pandas as pd\n",
    "import matplotlib.pyplot as plt\n",
    "import seaborn as sns \n",
    "import database\n",
    "from datetime import datetime\n",
    "import numpy as np"
   ]
  },
  {
   "cell_type": "code",
   "execution_count": 42,
   "metadata": {},
   "outputs": [],
   "source": [
    "#RandomForest Regression Algorithm\n",
    "from sklearn.ensemble import RandomForestRegressor, AdaBoostRegressor, GradientBoostingRegressor\n",
    "\n",
    "#Linear Regression Algorithm for Comparison\n",
    "from sklearn.linear_model import LinearRegression\n",
    "\n",
    "#Preprocessing Steps\n",
    "from sklearn.preprocessing import MinMaxScaler, StandardScaler, Normalizer\n",
    "\n",
    "#Pipeline\n",
    "from sklearn.pipeline import Pipeline\n",
    "\n",
    "#Cross Validation Score\n",
    "from sklearn.model_selection import cross_val_score, train_test_split\n",
    "\n",
    "from sklearn.decomposition import PCA"
   ]
  },
  {
   "cell_type": "code",
   "execution_count": 43,
   "metadata": {},
   "outputs": [],
   "source": [
    "train_df = pd.read_csv(MrtRecommendationDependencies.get_dataset_path(\"train_updates_with_ridership.csv\"))"
   ]
  },
  {
   "cell_type": "code",
   "execution_count": 44,
   "metadata": {},
   "outputs": [],
   "source": [
    "X_running = train_df.drop(['num_train_running','num_train_operational', 'num_dalian_train_running', 'num_dalian_train_operational', 'headway'], axis=1)\n",
    "X_headway = train_df.drop(['num_dalian_train_running', 'num_dalian_train_operational', 'headway'], axis=1)\n",
    "Y_running = train_df['num_train_running']\n",
    "Y_headway = train_df['headway']"
   ]
  },
  {
   "cell_type": "code",
   "execution_count": 45,
   "metadata": {},
   "outputs": [],
   "source": [
    "train_model = Pipeline([('scaler', Normalizer()),('regressor', GradientBoostingRegressor(n_estimators=35,random_state=35))])\n",
    "headway_model = Pipeline([('scaler', Normalizer()),('regressor', RandomForestRegressor(n_estimators=59,random_state=35))])"
   ]
  },
  {
   "cell_type": "code",
   "execution_count": 46,
   "metadata": {},
   "outputs": [
    {
     "name": "stdout",
     "output_type": "stream",
     "text": [
      "Train Running Score: 0.5025180721936052\n",
      "Headway Score: 0.6815852440107643\n"
     ]
    }
   ],
   "source": [
    "print(f\"Train Running Score: {cross_val_score(train_model,X_running,Y_running,cv=10,scoring='r2').mean()}\")\n",
    "print(f\"Headway Score: {cross_val_score(headway_model,X_headway,Y_headway,cv=10,scoring='r2').mean()}\")"
   ]
  },
  {
   "cell_type": "code",
   "execution_count": 47,
   "metadata": {},
   "outputs": [
    {
     "data": {
      "text/html": [
       "<div>\n",
       "<style scoped>\n",
       "    .dataframe tbody tr th:only-of-type {\n",
       "        vertical-align: middle;\n",
       "    }\n",
       "\n",
       "    .dataframe tbody tr th {\n",
       "        vertical-align: top;\n",
       "    }\n",
       "\n",
       "    .dataframe thead th {\n",
       "        text-align: right;\n",
       "    }\n",
       "</style>\n",
       "<table border=\"1\" class=\"dataframe\">\n",
       "  <thead>\n",
       "    <tr style=\"text-align: right;\">\n",
       "      <th></th>\n",
       "      <th>entry</th>\n",
       "      <th>exit</th>\n",
       "      <th>temp</th>\n",
       "      <th>humidity</th>\n",
       "      <th>rain_1h</th>\n",
       "      <th>rain_3h</th>\n",
       "    </tr>\n",
       "  </thead>\n",
       "  <tbody>\n",
       "    <tr>\n",
       "      <th>0</th>\n",
       "      <td>1595.615385</td>\n",
       "      <td>1720.384615</td>\n",
       "      <td>26.41</td>\n",
       "      <td>87</td>\n",
       "      <td>0.0</td>\n",
       "      <td>0.0</td>\n",
       "    </tr>\n",
       "    <tr>\n",
       "      <th>1</th>\n",
       "      <td>861.846154</td>\n",
       "      <td>284.538462</td>\n",
       "      <td>31.29</td>\n",
       "      <td>60</td>\n",
       "      <td>0.0</td>\n",
       "      <td>0.0</td>\n",
       "    </tr>\n",
       "    <tr>\n",
       "      <th>2</th>\n",
       "      <td>1903.923077</td>\n",
       "      <td>1857.076923</td>\n",
       "      <td>27.23</td>\n",
       "      <td>84</td>\n",
       "      <td>0.0</td>\n",
       "      <td>0.0</td>\n",
       "    </tr>\n",
       "    <tr>\n",
       "      <th>3</th>\n",
       "      <td>906.153846</td>\n",
       "      <td>318.538462</td>\n",
       "      <td>30.09</td>\n",
       "      <td>66</td>\n",
       "      <td>0.0</td>\n",
       "      <td>0.0</td>\n",
       "    </tr>\n",
       "    <tr>\n",
       "      <th>4</th>\n",
       "      <td>1536.538462</td>\n",
       "      <td>1414.230769</td>\n",
       "      <td>26.11</td>\n",
       "      <td>87</td>\n",
       "      <td>0.0</td>\n",
       "      <td>0.0</td>\n",
       "    </tr>\n",
       "  </tbody>\n",
       "</table>\n",
       "</div>"
      ],
      "text/plain": [
       "         entry         exit   temp  humidity  rain_1h  rain_3h\n",
       "0  1595.615385  1720.384615  26.41        87      0.0      0.0\n",
       "1   861.846154   284.538462  31.29        60      0.0      0.0\n",
       "2  1903.923077  1857.076923  27.23        84      0.0      0.0\n",
       "3   906.153846   318.538462  30.09        66      0.0      0.0\n",
       "4  1536.538462  1414.230769  26.11        87      0.0      0.0"
      ]
     },
     "execution_count": 47,
     "metadata": {},
     "output_type": "execute_result"
    }
   ],
   "source": [
    "X_running.head()"
   ]
  },
  {
   "cell_type": "code",
   "execution_count": null,
   "metadata": {},
   "outputs": [],
   "source": []
  }
 ],
 "metadata": {
  "kernelspec": {
   "display_name": "Python 3",
   "language": "python",
   "name": "python3"
  },
  "language_info": {
   "codemirror_mode": {
    "name": "ipython",
    "version": 3
   },
   "file_extension": ".py",
   "mimetype": "text/x-python",
   "name": "python",
   "nbconvert_exporter": "python",
   "pygments_lexer": "ipython3",
   "version": "3.8.3"
  }
 },
 "nbformat": 4,
 "nbformat_minor": 4
}
